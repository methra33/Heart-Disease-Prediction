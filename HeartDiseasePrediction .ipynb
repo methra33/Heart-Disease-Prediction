{
  "cells": [
    {
      "cell_type": "code",
      "execution_count": 1,
      "id": "5914f742",
      "metadata": {
        "id": "5914f742"
      },
      "outputs": [],
      "source": [
        "import pandas as pd\n",
        "import numpy as np\n",
        "import seaborn as sb\n",
        "from sklearn.tree import DecisionTreeClassifier\n",
        "from sklearn.tree import export_graphviz\n",
        "from six import StringIO\n",
        "from IPython.display import Image\n",
        "import pydotplus\n",
        "from sklearn import metrics\n",
        "from sklearn.naive_bayes import BernoulliNB\n",
        "from sklearn.naive_bayes import CategoricalNB\n",
        "from sklearn.naive_bayes import GaussianNB\n",
        "from sklearn import linear_model\n",
        "from sklearn import metrics\n",
        "import matplotlib.pyplot as plt\n",
        "%matplotlib inline"
      ]
    },
    {
      "cell_type": "code",
      "execution_count": 2,
      "id": "a14446f0",
      "metadata": {
        "colab": {
          "base_uri": "https://localhost:8080/",
          "height": 423
        },
        "id": "a14446f0",
        "outputId": "0c7d30b0-ea9c-4b64-cf03-6f68fefacf0f"
      },
      "outputs": [
        {
          "output_type": "execute_result",
          "data": {
            "text/plain": [
              "      age  sex  cp  trestbps  chol  fbs  restecg  thalach  exang  oldpeak  \\\n",
              "0      52    1   0       125   212    0        1      168      0      1.0   \n",
              "1      53    1   0       140   203    1        0      155      1      3.1   \n",
              "2      70    1   0       145   174    0        1      125      1      2.6   \n",
              "3      61    1   0       148   203    0        1      161      0      0.0   \n",
              "4      62    0   0       138   294    1        1      106      0      1.9   \n",
              "...   ...  ...  ..       ...   ...  ...      ...      ...    ...      ...   \n",
              "1020   59    1   1       140   221    0        1      164      1      0.0   \n",
              "1021   60    1   0       125   258    0        0      141      1      2.8   \n",
              "1022   47    1   0       110   275    0        0      118      1      1.0   \n",
              "1023   50    0   0       110   254    0        0      159      0      0.0   \n",
              "1024   54    1   0       120   188    0        1      113      0      1.4   \n",
              "\n",
              "      slope  ca  thal  target  \n",
              "0         2   2     3       0  \n",
              "1         0   0     3       0  \n",
              "2         0   0     3       0  \n",
              "3         2   1     3       0  \n",
              "4         1   3     2       0  \n",
              "...     ...  ..   ...     ...  \n",
              "1020      2   0     2       1  \n",
              "1021      1   1     3       0  \n",
              "1022      1   1     2       0  \n",
              "1023      2   0     2       1  \n",
              "1024      1   1     3       0  \n",
              "\n",
              "[1025 rows x 14 columns]"
            ],
            "text/html": [
              "\n",
              "  <div id=\"df-03c40452-6ac3-4857-9af1-9a1463ae23f8\" class=\"colab-df-container\">\n",
              "    <div>\n",
              "<style scoped>\n",
              "    .dataframe tbody tr th:only-of-type {\n",
              "        vertical-align: middle;\n",
              "    }\n",
              "\n",
              "    .dataframe tbody tr th {\n",
              "        vertical-align: top;\n",
              "    }\n",
              "\n",
              "    .dataframe thead th {\n",
              "        text-align: right;\n",
              "    }\n",
              "</style>\n",
              "<table border=\"1\" class=\"dataframe\">\n",
              "  <thead>\n",
              "    <tr style=\"text-align: right;\">\n",
              "      <th></th>\n",
              "      <th>age</th>\n",
              "      <th>sex</th>\n",
              "      <th>cp</th>\n",
              "      <th>trestbps</th>\n",
              "      <th>chol</th>\n",
              "      <th>fbs</th>\n",
              "      <th>restecg</th>\n",
              "      <th>thalach</th>\n",
              "      <th>exang</th>\n",
              "      <th>oldpeak</th>\n",
              "      <th>slope</th>\n",
              "      <th>ca</th>\n",
              "      <th>thal</th>\n",
              "      <th>target</th>\n",
              "    </tr>\n",
              "  </thead>\n",
              "  <tbody>\n",
              "    <tr>\n",
              "      <th>0</th>\n",
              "      <td>52</td>\n",
              "      <td>1</td>\n",
              "      <td>0</td>\n",
              "      <td>125</td>\n",
              "      <td>212</td>\n",
              "      <td>0</td>\n",
              "      <td>1</td>\n",
              "      <td>168</td>\n",
              "      <td>0</td>\n",
              "      <td>1.0</td>\n",
              "      <td>2</td>\n",
              "      <td>2</td>\n",
              "      <td>3</td>\n",
              "      <td>0</td>\n",
              "    </tr>\n",
              "    <tr>\n",
              "      <th>1</th>\n",
              "      <td>53</td>\n",
              "      <td>1</td>\n",
              "      <td>0</td>\n",
              "      <td>140</td>\n",
              "      <td>203</td>\n",
              "      <td>1</td>\n",
              "      <td>0</td>\n",
              "      <td>155</td>\n",
              "      <td>1</td>\n",
              "      <td>3.1</td>\n",
              "      <td>0</td>\n",
              "      <td>0</td>\n",
              "      <td>3</td>\n",
              "      <td>0</td>\n",
              "    </tr>\n",
              "    <tr>\n",
              "      <th>2</th>\n",
              "      <td>70</td>\n",
              "      <td>1</td>\n",
              "      <td>0</td>\n",
              "      <td>145</td>\n",
              "      <td>174</td>\n",
              "      <td>0</td>\n",
              "      <td>1</td>\n",
              "      <td>125</td>\n",
              "      <td>1</td>\n",
              "      <td>2.6</td>\n",
              "      <td>0</td>\n",
              "      <td>0</td>\n",
              "      <td>3</td>\n",
              "      <td>0</td>\n",
              "    </tr>\n",
              "    <tr>\n",
              "      <th>3</th>\n",
              "      <td>61</td>\n",
              "      <td>1</td>\n",
              "      <td>0</td>\n",
              "      <td>148</td>\n",
              "      <td>203</td>\n",
              "      <td>0</td>\n",
              "      <td>1</td>\n",
              "      <td>161</td>\n",
              "      <td>0</td>\n",
              "      <td>0.0</td>\n",
              "      <td>2</td>\n",
              "      <td>1</td>\n",
              "      <td>3</td>\n",
              "      <td>0</td>\n",
              "    </tr>\n",
              "    <tr>\n",
              "      <th>4</th>\n",
              "      <td>62</td>\n",
              "      <td>0</td>\n",
              "      <td>0</td>\n",
              "      <td>138</td>\n",
              "      <td>294</td>\n",
              "      <td>1</td>\n",
              "      <td>1</td>\n",
              "      <td>106</td>\n",
              "      <td>0</td>\n",
              "      <td>1.9</td>\n",
              "      <td>1</td>\n",
              "      <td>3</td>\n",
              "      <td>2</td>\n",
              "      <td>0</td>\n",
              "    </tr>\n",
              "    <tr>\n",
              "      <th>...</th>\n",
              "      <td>...</td>\n",
              "      <td>...</td>\n",
              "      <td>...</td>\n",
              "      <td>...</td>\n",
              "      <td>...</td>\n",
              "      <td>...</td>\n",
              "      <td>...</td>\n",
              "      <td>...</td>\n",
              "      <td>...</td>\n",
              "      <td>...</td>\n",
              "      <td>...</td>\n",
              "      <td>...</td>\n",
              "      <td>...</td>\n",
              "      <td>...</td>\n",
              "    </tr>\n",
              "    <tr>\n",
              "      <th>1020</th>\n",
              "      <td>59</td>\n",
              "      <td>1</td>\n",
              "      <td>1</td>\n",
              "      <td>140</td>\n",
              "      <td>221</td>\n",
              "      <td>0</td>\n",
              "      <td>1</td>\n",
              "      <td>164</td>\n",
              "      <td>1</td>\n",
              "      <td>0.0</td>\n",
              "      <td>2</td>\n",
              "      <td>0</td>\n",
              "      <td>2</td>\n",
              "      <td>1</td>\n",
              "    </tr>\n",
              "    <tr>\n",
              "      <th>1021</th>\n",
              "      <td>60</td>\n",
              "      <td>1</td>\n",
              "      <td>0</td>\n",
              "      <td>125</td>\n",
              "      <td>258</td>\n",
              "      <td>0</td>\n",
              "      <td>0</td>\n",
              "      <td>141</td>\n",
              "      <td>1</td>\n",
              "      <td>2.8</td>\n",
              "      <td>1</td>\n",
              "      <td>1</td>\n",
              "      <td>3</td>\n",
              "      <td>0</td>\n",
              "    </tr>\n",
              "    <tr>\n",
              "      <th>1022</th>\n",
              "      <td>47</td>\n",
              "      <td>1</td>\n",
              "      <td>0</td>\n",
              "      <td>110</td>\n",
              "      <td>275</td>\n",
              "      <td>0</td>\n",
              "      <td>0</td>\n",
              "      <td>118</td>\n",
              "      <td>1</td>\n",
              "      <td>1.0</td>\n",
              "      <td>1</td>\n",
              "      <td>1</td>\n",
              "      <td>2</td>\n",
              "      <td>0</td>\n",
              "    </tr>\n",
              "    <tr>\n",
              "      <th>1023</th>\n",
              "      <td>50</td>\n",
              "      <td>0</td>\n",
              "      <td>0</td>\n",
              "      <td>110</td>\n",
              "      <td>254</td>\n",
              "      <td>0</td>\n",
              "      <td>0</td>\n",
              "      <td>159</td>\n",
              "      <td>0</td>\n",
              "      <td>0.0</td>\n",
              "      <td>2</td>\n",
              "      <td>0</td>\n",
              "      <td>2</td>\n",
              "      <td>1</td>\n",
              "    </tr>\n",
              "    <tr>\n",
              "      <th>1024</th>\n",
              "      <td>54</td>\n",
              "      <td>1</td>\n",
              "      <td>0</td>\n",
              "      <td>120</td>\n",
              "      <td>188</td>\n",
              "      <td>0</td>\n",
              "      <td>1</td>\n",
              "      <td>113</td>\n",
              "      <td>0</td>\n",
              "      <td>1.4</td>\n",
              "      <td>1</td>\n",
              "      <td>1</td>\n",
              "      <td>3</td>\n",
              "      <td>0</td>\n",
              "    </tr>\n",
              "  </tbody>\n",
              "</table>\n",
              "<p>1025 rows × 14 columns</p>\n",
              "</div>\n",
              "    <div class=\"colab-df-buttons\">\n",
              "\n",
              "  <div class=\"colab-df-container\">\n",
              "    <button class=\"colab-df-convert\" onclick=\"convertToInteractive('df-03c40452-6ac3-4857-9af1-9a1463ae23f8')\"\n",
              "            title=\"Convert this dataframe to an interactive table.\"\n",
              "            style=\"display:none;\">\n",
              "\n",
              "  <svg xmlns=\"http://www.w3.org/2000/svg\" height=\"24px\" viewBox=\"0 -960 960 960\">\n",
              "    <path d=\"M120-120v-720h720v720H120Zm60-500h600v-160H180v160Zm220 220h160v-160H400v160Zm0 220h160v-160H400v160ZM180-400h160v-160H180v160Zm440 0h160v-160H620v160ZM180-180h160v-160H180v160Zm440 0h160v-160H620v160Z\"/>\n",
              "  </svg>\n",
              "    </button>\n",
              "\n",
              "  <style>\n",
              "    .colab-df-container {\n",
              "      display:flex;\n",
              "      gap: 12px;\n",
              "    }\n",
              "\n",
              "    .colab-df-convert {\n",
              "      background-color: #E8F0FE;\n",
              "      border: none;\n",
              "      border-radius: 50%;\n",
              "      cursor: pointer;\n",
              "      display: none;\n",
              "      fill: #1967D2;\n",
              "      height: 32px;\n",
              "      padding: 0 0 0 0;\n",
              "      width: 32px;\n",
              "    }\n",
              "\n",
              "    .colab-df-convert:hover {\n",
              "      background-color: #E2EBFA;\n",
              "      box-shadow: 0px 1px 2px rgba(60, 64, 67, 0.3), 0px 1px 3px 1px rgba(60, 64, 67, 0.15);\n",
              "      fill: #174EA6;\n",
              "    }\n",
              "\n",
              "    .colab-df-buttons div {\n",
              "      margin-bottom: 4px;\n",
              "    }\n",
              "\n",
              "    [theme=dark] .colab-df-convert {\n",
              "      background-color: #3B4455;\n",
              "      fill: #D2E3FC;\n",
              "    }\n",
              "\n",
              "    [theme=dark] .colab-df-convert:hover {\n",
              "      background-color: #434B5C;\n",
              "      box-shadow: 0px 1px 3px 1px rgba(0, 0, 0, 0.15);\n",
              "      filter: drop-shadow(0px 1px 2px rgba(0, 0, 0, 0.3));\n",
              "      fill: #FFFFFF;\n",
              "    }\n",
              "  </style>\n",
              "\n",
              "    <script>\n",
              "      const buttonEl =\n",
              "        document.querySelector('#df-03c40452-6ac3-4857-9af1-9a1463ae23f8 button.colab-df-convert');\n",
              "      buttonEl.style.display =\n",
              "        google.colab.kernel.accessAllowed ? 'block' : 'none';\n",
              "\n",
              "      async function convertToInteractive(key) {\n",
              "        const element = document.querySelector('#df-03c40452-6ac3-4857-9af1-9a1463ae23f8');\n",
              "        const dataTable =\n",
              "          await google.colab.kernel.invokeFunction('convertToInteractive',\n",
              "                                                    [key], {});\n",
              "        if (!dataTable) return;\n",
              "\n",
              "        const docLinkHtml = 'Like what you see? Visit the ' +\n",
              "          '<a target=\"_blank\" href=https://colab.research.google.com/notebooks/data_table.ipynb>data table notebook</a>'\n",
              "          + ' to learn more about interactive tables.';\n",
              "        element.innerHTML = '';\n",
              "        dataTable['output_type'] = 'display_data';\n",
              "        await google.colab.output.renderOutput(dataTable, element);\n",
              "        const docLink = document.createElement('div');\n",
              "        docLink.innerHTML = docLinkHtml;\n",
              "        element.appendChild(docLink);\n",
              "      }\n",
              "    </script>\n",
              "  </div>\n",
              "\n",
              "\n",
              "<div id=\"df-00236c28-3699-4abb-a92f-2228821df286\">\n",
              "  <button class=\"colab-df-quickchart\" onclick=\"quickchart('df-00236c28-3699-4abb-a92f-2228821df286')\"\n",
              "            title=\"Suggest charts\"\n",
              "            style=\"display:none;\">\n",
              "\n",
              "<svg xmlns=\"http://www.w3.org/2000/svg\" height=\"24px\"viewBox=\"0 0 24 24\"\n",
              "     width=\"24px\">\n",
              "    <g>\n",
              "        <path d=\"M19 3H5c-1.1 0-2 .9-2 2v14c0 1.1.9 2 2 2h14c1.1 0 2-.9 2-2V5c0-1.1-.9-2-2-2zM9 17H7v-7h2v7zm4 0h-2V7h2v10zm4 0h-2v-4h2v4z\"/>\n",
              "    </g>\n",
              "</svg>\n",
              "  </button>\n",
              "\n",
              "<style>\n",
              "  .colab-df-quickchart {\n",
              "      --bg-color: #E8F0FE;\n",
              "      --fill-color: #1967D2;\n",
              "      --hover-bg-color: #E2EBFA;\n",
              "      --hover-fill-color: #174EA6;\n",
              "      --disabled-fill-color: #AAA;\n",
              "      --disabled-bg-color: #DDD;\n",
              "  }\n",
              "\n",
              "  [theme=dark] .colab-df-quickchart {\n",
              "      --bg-color: #3B4455;\n",
              "      --fill-color: #D2E3FC;\n",
              "      --hover-bg-color: #434B5C;\n",
              "      --hover-fill-color: #FFFFFF;\n",
              "      --disabled-bg-color: #3B4455;\n",
              "      --disabled-fill-color: #666;\n",
              "  }\n",
              "\n",
              "  .colab-df-quickchart {\n",
              "    background-color: var(--bg-color);\n",
              "    border: none;\n",
              "    border-radius: 50%;\n",
              "    cursor: pointer;\n",
              "    display: none;\n",
              "    fill: var(--fill-color);\n",
              "    height: 32px;\n",
              "    padding: 0;\n",
              "    width: 32px;\n",
              "  }\n",
              "\n",
              "  .colab-df-quickchart:hover {\n",
              "    background-color: var(--hover-bg-color);\n",
              "    box-shadow: 0 1px 2px rgba(60, 64, 67, 0.3), 0 1px 3px 1px rgba(60, 64, 67, 0.15);\n",
              "    fill: var(--button-hover-fill-color);\n",
              "  }\n",
              "\n",
              "  .colab-df-quickchart-complete:disabled,\n",
              "  .colab-df-quickchart-complete:disabled:hover {\n",
              "    background-color: var(--disabled-bg-color);\n",
              "    fill: var(--disabled-fill-color);\n",
              "    box-shadow: none;\n",
              "  }\n",
              "\n",
              "  .colab-df-spinner {\n",
              "    border: 2px solid var(--fill-color);\n",
              "    border-color: transparent;\n",
              "    border-bottom-color: var(--fill-color);\n",
              "    animation:\n",
              "      spin 1s steps(1) infinite;\n",
              "  }\n",
              "\n",
              "  @keyframes spin {\n",
              "    0% {\n",
              "      border-color: transparent;\n",
              "      border-bottom-color: var(--fill-color);\n",
              "      border-left-color: var(--fill-color);\n",
              "    }\n",
              "    20% {\n",
              "      border-color: transparent;\n",
              "      border-left-color: var(--fill-color);\n",
              "      border-top-color: var(--fill-color);\n",
              "    }\n",
              "    30% {\n",
              "      border-color: transparent;\n",
              "      border-left-color: var(--fill-color);\n",
              "      border-top-color: var(--fill-color);\n",
              "      border-right-color: var(--fill-color);\n",
              "    }\n",
              "    40% {\n",
              "      border-color: transparent;\n",
              "      border-right-color: var(--fill-color);\n",
              "      border-top-color: var(--fill-color);\n",
              "    }\n",
              "    60% {\n",
              "      border-color: transparent;\n",
              "      border-right-color: var(--fill-color);\n",
              "    }\n",
              "    80% {\n",
              "      border-color: transparent;\n",
              "      border-right-color: var(--fill-color);\n",
              "      border-bottom-color: var(--fill-color);\n",
              "    }\n",
              "    90% {\n",
              "      border-color: transparent;\n",
              "      border-bottom-color: var(--fill-color);\n",
              "    }\n",
              "  }\n",
              "</style>\n",
              "\n",
              "  <script>\n",
              "    async function quickchart(key) {\n",
              "      const quickchartButtonEl =\n",
              "        document.querySelector('#' + key + ' button');\n",
              "      quickchartButtonEl.disabled = true;  // To prevent multiple clicks.\n",
              "      quickchartButtonEl.classList.add('colab-df-spinner');\n",
              "      try {\n",
              "        const charts = await google.colab.kernel.invokeFunction(\n",
              "            'suggestCharts', [key], {});\n",
              "      } catch (error) {\n",
              "        console.error('Error during call to suggestCharts:', error);\n",
              "      }\n",
              "      quickchartButtonEl.classList.remove('colab-df-spinner');\n",
              "      quickchartButtonEl.classList.add('colab-df-quickchart-complete');\n",
              "    }\n",
              "    (() => {\n",
              "      let quickchartButtonEl =\n",
              "        document.querySelector('#df-00236c28-3699-4abb-a92f-2228821df286 button');\n",
              "      quickchartButtonEl.style.display =\n",
              "        google.colab.kernel.accessAllowed ? 'block' : 'none';\n",
              "    })();\n",
              "  </script>\n",
              "</div>\n",
              "\n",
              "  <div id=\"id_d2973164-3426-4109-9f28-ceded2317a65\">\n",
              "    <style>\n",
              "      .colab-df-generate {\n",
              "        background-color: #E8F0FE;\n",
              "        border: none;\n",
              "        border-radius: 50%;\n",
              "        cursor: pointer;\n",
              "        display: none;\n",
              "        fill: #1967D2;\n",
              "        height: 32px;\n",
              "        padding: 0 0 0 0;\n",
              "        width: 32px;\n",
              "      }\n",
              "\n",
              "      .colab-df-generate:hover {\n",
              "        background-color: #E2EBFA;\n",
              "        box-shadow: 0px 1px 2px rgba(60, 64, 67, 0.3), 0px 1px 3px 1px rgba(60, 64, 67, 0.15);\n",
              "        fill: #174EA6;\n",
              "      }\n",
              "\n",
              "      [theme=dark] .colab-df-generate {\n",
              "        background-color: #3B4455;\n",
              "        fill: #D2E3FC;\n",
              "      }\n",
              "\n",
              "      [theme=dark] .colab-df-generate:hover {\n",
              "        background-color: #434B5C;\n",
              "        box-shadow: 0px 1px 3px 1px rgba(0, 0, 0, 0.15);\n",
              "        filter: drop-shadow(0px 1px 2px rgba(0, 0, 0, 0.3));\n",
              "        fill: #FFFFFF;\n",
              "      }\n",
              "    </style>\n",
              "    <button class=\"colab-df-generate\" onclick=\"generateWithVariable('df')\"\n",
              "            title=\"Generate code using this dataframe.\"\n",
              "            style=\"display:none;\">\n",
              "\n",
              "  <svg xmlns=\"http://www.w3.org/2000/svg\" height=\"24px\"viewBox=\"0 0 24 24\"\n",
              "       width=\"24px\">\n",
              "    <path d=\"M7,19H8.4L18.45,9,17,7.55,7,17.6ZM5,21V16.75L18.45,3.32a2,2,0,0,1,2.83,0l1.4,1.43a1.91,1.91,0,0,1,.58,1.4,1.91,1.91,0,0,1-.58,1.4L9.25,21ZM18.45,9,17,7.55Zm-12,3A5.31,5.31,0,0,0,4.9,8.1,5.31,5.31,0,0,0,1,6.5,5.31,5.31,0,0,0,4.9,4.9,5.31,5.31,0,0,0,6.5,1,5.31,5.31,0,0,0,8.1,4.9,5.31,5.31,0,0,0,12,6.5,5.46,5.46,0,0,0,6.5,12Z\"/>\n",
              "  </svg>\n",
              "    </button>\n",
              "    <script>\n",
              "      (() => {\n",
              "      const buttonEl =\n",
              "        document.querySelector('#id_d2973164-3426-4109-9f28-ceded2317a65 button.colab-df-generate');\n",
              "      buttonEl.style.display =\n",
              "        google.colab.kernel.accessAllowed ? 'block' : 'none';\n",
              "\n",
              "      buttonEl.onclick = () => {\n",
              "        google.colab.notebook.generateWithVariable('df');\n",
              "      }\n",
              "      })();\n",
              "    </script>\n",
              "  </div>\n",
              "\n",
              "    </div>\n",
              "  </div>\n"
            ],
            "application/vnd.google.colaboratory.intrinsic+json": {
              "type": "dataframe",
              "variable_name": "df",
              "summary": "{\n  \"name\": \"df\",\n  \"rows\": 1025,\n  \"fields\": [\n    {\n      \"column\": \"age\",\n      \"properties\": {\n        \"dtype\": \"number\",\n        \"std\": 9,\n        \"min\": 29,\n        \"max\": 77,\n        \"num_unique_values\": 41,\n        \"samples\": [\n          65,\n          50,\n          54\n        ],\n        \"semantic_type\": \"\",\n        \"description\": \"\"\n      }\n    },\n    {\n      \"column\": \"sex\",\n      \"properties\": {\n        \"dtype\": \"number\",\n        \"std\": 0,\n        \"min\": 0,\n        \"max\": 1,\n        \"num_unique_values\": 2,\n        \"samples\": [\n          0,\n          1\n        ],\n        \"semantic_type\": \"\",\n        \"description\": \"\"\n      }\n    },\n    {\n      \"column\": \"cp\",\n      \"properties\": {\n        \"dtype\": \"number\",\n        \"std\": 1,\n        \"min\": 0,\n        \"max\": 3,\n        \"num_unique_values\": 4,\n        \"samples\": [\n          1,\n          3\n        ],\n        \"semantic_type\": \"\",\n        \"description\": \"\"\n      }\n    },\n    {\n      \"column\": \"trestbps\",\n      \"properties\": {\n        \"dtype\": \"number\",\n        \"std\": 17,\n        \"min\": 94,\n        \"max\": 200,\n        \"num_unique_values\": 49,\n        \"samples\": [\n          128,\n          172\n        ],\n        \"semantic_type\": \"\",\n        \"description\": \"\"\n      }\n    },\n    {\n      \"column\": \"chol\",\n      \"properties\": {\n        \"dtype\": \"number\",\n        \"std\": 51,\n        \"min\": 126,\n        \"max\": 564,\n        \"num_unique_values\": 152,\n        \"samples\": [\n          267,\n          262\n        ],\n        \"semantic_type\": \"\",\n        \"description\": \"\"\n      }\n    },\n    {\n      \"column\": \"fbs\",\n      \"properties\": {\n        \"dtype\": \"number\",\n        \"std\": 0,\n        \"min\": 0,\n        \"max\": 1,\n        \"num_unique_values\": 2,\n        \"samples\": [\n          1,\n          0\n        ],\n        \"semantic_type\": \"\",\n        \"description\": \"\"\n      }\n    },\n    {\n      \"column\": \"restecg\",\n      \"properties\": {\n        \"dtype\": \"number\",\n        \"std\": 0,\n        \"min\": 0,\n        \"max\": 2,\n        \"num_unique_values\": 3,\n        \"samples\": [\n          1,\n          0\n        ],\n        \"semantic_type\": \"\",\n        \"description\": \"\"\n      }\n    },\n    {\n      \"column\": \"thalach\",\n      \"properties\": {\n        \"dtype\": \"number\",\n        \"std\": 23,\n        \"min\": 71,\n        \"max\": 202,\n        \"num_unique_values\": 91,\n        \"samples\": [\n          180,\n          152\n        ],\n        \"semantic_type\": \"\",\n        \"description\": \"\"\n      }\n    },\n    {\n      \"column\": \"exang\",\n      \"properties\": {\n        \"dtype\": \"number\",\n        \"std\": 0,\n        \"min\": 0,\n        \"max\": 1,\n        \"num_unique_values\": 2,\n        \"samples\": [\n          1,\n          0\n        ],\n        \"semantic_type\": \"\",\n        \"description\": \"\"\n      }\n    },\n    {\n      \"column\": \"oldpeak\",\n      \"properties\": {\n        \"dtype\": \"number\",\n        \"std\": 1.175053255150176,\n        \"min\": 0.0,\n        \"max\": 6.2,\n        \"num_unique_values\": 40,\n        \"samples\": [\n          2.8,\n          0.4\n        ],\n        \"semantic_type\": \"\",\n        \"description\": \"\"\n      }\n    },\n    {\n      \"column\": \"slope\",\n      \"properties\": {\n        \"dtype\": \"number\",\n        \"std\": 0,\n        \"min\": 0,\n        \"max\": 2,\n        \"num_unique_values\": 3,\n        \"samples\": [\n          2,\n          0\n        ],\n        \"semantic_type\": \"\",\n        \"description\": \"\"\n      }\n    },\n    {\n      \"column\": \"ca\",\n      \"properties\": {\n        \"dtype\": \"number\",\n        \"std\": 1,\n        \"min\": 0,\n        \"max\": 4,\n        \"num_unique_values\": 5,\n        \"samples\": [\n          0,\n          4\n        ],\n        \"semantic_type\": \"\",\n        \"description\": \"\"\n      }\n    },\n    {\n      \"column\": \"thal\",\n      \"properties\": {\n        \"dtype\": \"number\",\n        \"std\": 0,\n        \"min\": 0,\n        \"max\": 3,\n        \"num_unique_values\": 4,\n        \"samples\": [\n          2,\n          0\n        ],\n        \"semantic_type\": \"\",\n        \"description\": \"\"\n      }\n    },\n    {\n      \"column\": \"target\",\n      \"properties\": {\n        \"dtype\": \"number\",\n        \"std\": 0,\n        \"min\": 0,\n        \"max\": 1,\n        \"num_unique_values\": 2,\n        \"samples\": [\n          1,\n          0\n        ],\n        \"semantic_type\": \"\",\n        \"description\": \"\"\n      }\n    }\n  ]\n}"
            }
          },
          "metadata": {},
          "execution_count": 2
        }
      ],
      "source": [
        "df = pd.read_csv('heartdataset.csv')\n",
        "df.isnull().sum()\n",
        "df"
      ]
    },
    {
      "cell_type": "code",
      "execution_count": 3,
      "id": "bf44ed6f",
      "metadata": {
        "colab": {
          "base_uri": "https://localhost:8080/"
        },
        "id": "bf44ed6f",
        "outputId": "649aca7d-ed03-4331-d489-4f7bbe919705"
      },
      "outputs": [
        {
          "output_type": "execute_result",
          "data": {
            "text/plain": [
              "array([[52.,  1.,  0., ...,  2.,  2.,  3.],\n",
              "       [53.,  1.,  0., ...,  0.,  0.,  3.],\n",
              "       [70.,  1.,  0., ...,  0.,  0.,  3.],\n",
              "       ...,\n",
              "       [47.,  1.,  0., ...,  1.,  1.,  2.],\n",
              "       [50.,  0.,  0., ...,  2.,  0.,  2.],\n",
              "       [54.,  1.,  0., ...,  1.,  1.,  3.]])"
            ]
          },
          "metadata": {},
          "execution_count": 3
        }
      ],
      "source": [
        "X=df.iloc[:,:13]\n",
        "Y=df.iloc[:,13]\n",
        "X=np.array(X)\n",
        "Y=np.array(Y)\n",
        "X"
      ]
    },
    {
      "cell_type": "code",
      "execution_count": 4,
      "id": "2e133be8",
      "metadata": {
        "colab": {
          "base_uri": "https://localhost:8080/"
        },
        "id": "2e133be8",
        "outputId": "5038c245-d8f2-401f-ee79-ff303e84bcba"
      },
      "outputs": [
        {
          "output_type": "execute_result",
          "data": {
            "text/plain": [
              "array([0, 0, 0, ..., 0, 1, 0])"
            ]
          },
          "metadata": {},
          "execution_count": 4
        }
      ],
      "source": [
        "Y"
      ]
    },
    {
      "cell_type": "code",
      "execution_count": 5,
      "id": "c4fe80e5",
      "metadata": {
        "colab": {
          "base_uri": "https://localhost:8080/"
        },
        "id": "c4fe80e5",
        "outputId": "a0213af0-601b-4785-8166-f8b9c20ffb46"
      },
      "outputs": [
        {
          "output_type": "stream",
          "name": "stdout",
          "text": [
            "accuracy is 0.9024390243902439\n"
          ]
        }
      ],
      "source": [
        "tree=DecisionTreeClassifier(criterion='entropy',max_depth=6,splitter=\"random\")\n",
        "#tree=DecisionTreeClassifier(criterion='entropy',max_depth=4)\n",
        "#tree=DecisionTreeClassifier(criterion='entropy')\n",
        "tree.fit(X,Y)\n",
        "dot_data=StringIO()\n",
        "export_graphviz(tree,out_file=dot_data)\n",
        "graph=pydotplus.graph_from_dot_data(dot_data.getvalue())\n",
        "Image(graph.create_png(),width=700,height=350)\n",
        "predict=tree.predict(X)\n",
        "predict\n",
        "print('accuracy is',metrics.accuracy_score(Y,predict))"
      ]
    },
    {
      "cell_type": "code",
      "execution_count": 6,
      "id": "c569892b",
      "metadata": {
        "colab": {
          "base_uri": "https://localhost:8080/"
        },
        "id": "c569892b",
        "outputId": "0dff11da-51a5-4f5b-c803-93808cbfa5d9"
      },
      "outputs": [
        {
          "output_type": "stream",
          "name": "stdout",
          "text": [
            "accuracy is 0.9609756097560975\n"
          ]
        }
      ],
      "source": [
        "tree=DecisionTreeClassifier(criterion='entropy',max_depth=6,splitter='best')\n",
        "#tree=DecisionTreeClassifier(criterion='entropy',max_depth=4)\n",
        "#tree=DecisionTreeClassifier(criterion='entropy')\n",
        "tree.fit(X,Y)\n",
        "dot_data=StringIO()\n",
        "export_graphviz(tree,out_file=dot_data)\n",
        "graph=pydotplus.graph_from_dot_data(dot_data.getvalue())\n",
        "Image(graph.create_png(),width=700,height=350)\n",
        "predict=tree.predict(X)\n",
        "predict\n",
        "print('accuracy is',metrics.accuracy_score(Y,predict))"
      ]
    },
    {
      "cell_type": "code",
      "execution_count": 7,
      "id": "3400554b",
      "metadata": {
        "colab": {
          "base_uri": "https://localhost:8080/"
        },
        "id": "3400554b",
        "outputId": "62d8072e-7253-4e37-f110-c28d0e0b2fe5"
      },
      "outputs": [
        {
          "output_type": "stream",
          "name": "stdout",
          "text": [
            "accuracy is 0.9609756097560975\n"
          ]
        }
      ],
      "source": [
        "tree=DecisionTreeClassifier(criterion='entropy',max_depth=6,splitter='best',min_samples_split=2)\n",
        "#tree=DecisionTreeClassifier(criterion='entropy',max_depth=4)\n",
        "#tree=DecisionTreeClassifier(criterion='entropy')\n",
        "tree.fit(X,Y)\n",
        "dot_data=StringIO()\n",
        "export_graphviz(tree,out_file=dot_data)\n",
        "graph=pydotplus.graph_from_dot_data(dot_data.getvalue())\n",
        "Image(graph.create_png(),width=700,height=350)\n",
        "predict=tree.predict(X)\n",
        "predict\n",
        "print('accuracy is',metrics.accuracy_score(Y,predict))"
      ]
    },
    {
      "cell_type": "code",
      "execution_count": 8,
      "id": "38b8d177",
      "metadata": {
        "colab": {
          "base_uri": "https://localhost:8080/"
        },
        "id": "38b8d177",
        "outputId": "c408328f-c787-48ea-fb1d-ebd62ed1aa99"
      },
      "outputs": [
        {
          "output_type": "stream",
          "name": "stdout",
          "text": [
            "accuracy is 0.9765853658536585\n"
          ]
        }
      ],
      "source": [
        "tree=DecisionTreeClassifier(criterion='entropy',max_depth=8,splitter='best',min_samples_split=2,max_features='log2')\n",
        "#tree=DecisionTreeClassifier(criterion='entropy',max_depth=4)\n",
        "#tree=DecisionTreeClassifier(criterion='entropy')\n",
        "tree.fit(X,Y)\n",
        "dot_data=StringIO()\n",
        "export_graphviz(tree,out_file=dot_data)\n",
        "graph=pydotplus.graph_from_dot_data(dot_data.getvalue())\n",
        "Image(graph.create_png(),width=700,height=350)\n",
        "predict=tree.predict(X)\n",
        "predict\n",
        "print('accuracy is',metrics.accuracy_score(Y,predict))"
      ]
    },
    {
      "cell_type": "code",
      "execution_count": 9,
      "id": "006600ec",
      "metadata": {
        "colab": {
          "base_uri": "https://localhost:8080/"
        },
        "id": "006600ec",
        "outputId": "405a8a5d-dc2e-47a4-db26-34bd0e4893cc"
      },
      "outputs": [
        {
          "output_type": "stream",
          "name": "stdout",
          "text": [
            "accuracy is 0.9668292682926829\n"
          ]
        }
      ],
      "source": [
        "tree=DecisionTreeClassifier(criterion='entropy',max_depth=8,splitter='best',min_samples_split=2,max_features='sqrt')\n",
        "#tree=DecisionTreeClassifier(criterion='entropy',max_depth=4)\n",
        "#tree=DecisionTreeClassifier(criterion='entropy')\n",
        "tree.fit(X,Y)\n",
        "dot_data=StringIO()\n",
        "export_graphviz(tree,out_file=dot_data)\n",
        "graph=pydotplus.graph_from_dot_data(dot_data.getvalue())\n",
        "Image(graph.create_png(),width=700,height=350)\n",
        "predict=tree.predict(X)\n",
        "predict\n",
        "print('accuracy is',metrics.accuracy_score(Y,predict))"
      ]
    },
    {
      "cell_type": "code",
      "execution_count": 10,
      "id": "6f6327a2",
      "metadata": {
        "colab": {
          "base_uri": "https://localhost:8080/"
        },
        "id": "6f6327a2",
        "outputId": "e18514ee-1db4-4ffa-e2b1-b417065c9d77"
      },
      "outputs": [
        {
          "output_type": "stream",
          "name": "stdout",
          "text": [
            "accuracy is 0.9590243902439024\n"
          ]
        }
      ],
      "source": [
        "tree=DecisionTreeClassifier(criterion='entropy',max_depth=8,splitter='best',min_samples_split=2,max_features='sqrt',random_state=42)\n",
        "#tree=DecisionTreeClassifier(criterion='entropy',max_depth=4)\n",
        "#tree=DecisionTreeClassifier(criterion='entropy')\n",
        "tree.fit(X,Y)\n",
        "dot_data=StringIO()\n",
        "export_graphviz(tree,out_file=dot_data)\n",
        "graph=pydotplus.graph_from_dot_data(dot_data.getvalue())\n",
        "Image(graph.create_png(),width=700,height=350)\n",
        "predict=tree.predict(X)\n",
        "predict\n",
        "print('accuracy is',metrics.accuracy_score(Y,predict))"
      ]
    },
    {
      "cell_type": "code",
      "execution_count": 11,
      "id": "9392c6bd",
      "metadata": {
        "colab": {
          "base_uri": "https://localhost:8080/"
        },
        "id": "9392c6bd",
        "outputId": "5e540058-2960-47ab-a771-0f98708973fd"
      },
      "outputs": [
        {
          "output_type": "stream",
          "name": "stdout",
          "text": [
            "accuracy is 0.9921951219512195\n"
          ]
        }
      ],
      "source": [
        "tree=DecisionTreeClassifier(criterion='gini',max_depth=8,splitter='best',min_samples_split=3,min_samples_leaf=1)\n",
        "tree.fit(X,Y)\n",
        "dot_data=StringIO()\n",
        "export_graphviz(tree,out_file=dot_data)\n",
        "graph=pydotplus.graph_from_dot_data(dot_data.getvalue())\n",
        "Image(graph.create_png(),width=700,height=350)\n",
        "predict=tree.predict(X)\n",
        "predict\n",
        "print('accuracy is',metrics.accuracy_score(Y,predict))"
      ]
    },
    {
      "cell_type": "code",
      "execution_count": 12,
      "id": "bc570203",
      "metadata": {
        "colab": {
          "base_uri": "https://localhost:8080/"
        },
        "id": "bc570203",
        "outputId": "d55c75e0-20cb-496a-952b-7b9679dc3c24"
      },
      "outputs": [
        {
          "output_type": "stream",
          "name": "stdout",
          "text": [
            "accuracy is 0.9960975609756098\n"
          ]
        }
      ],
      "source": [
        "tree=DecisionTreeClassifier(criterion='entropy',max_depth=8,splitter='best',min_samples_split=2,random_state=30,class_weight='balanced')\n",
        "tree.fit(X,Y)\n",
        "dot_data=StringIO()\n",
        "export_graphviz(tree,out_file=dot_data)\n",
        "graph=pydotplus.graph_from_dot_data(dot_data.getvalue())\n",
        "Image(graph.create_png(),width=700,height=350)\n",
        "predict=tree.predict(X)\n",
        "predict\n",
        "print('accuracy is',metrics.accuracy_score(Y,predict))"
      ]
    },
    {
      "cell_type": "code",
      "execution_count": 13,
      "id": "5fef9f93",
      "metadata": {
        "colab": {
          "base_uri": "https://localhost:8080/"
        },
        "id": "5fef9f93",
        "outputId": "1d13fe8a-2316-4e3b-ac0e-56ad32533386"
      },
      "outputs": [
        {
          "output_type": "stream",
          "name": "stdout",
          "text": [
            "[0 0 0 ... 0 1 0]\n",
            "[1, 2, 3, 4, 5, 6, 7, 8, 9]\n",
            "[1.0, 0.9805825242718447, 0.9805825242718447, 0.8543689320388349, 0.8349514563106796, 0.8252427184466019, 0.7669902912621359, 0.7281553398058253, 0.7864077669902912]\n"
          ]
        }
      ],
      "source": [
        "# splitting into training and testing datasets\n",
        "from sklearn.model_selection import train_test_split\n",
        "y=df['target'].to_numpy()\n",
        "x=df.iloc[:,0:13].to_numpy()\n",
        "print(y)\n",
        "xtrain,xtest,ytrain,ytest=train_test_split(x,y,test_size=0.1)\n",
        "from sklearn.neighbors import KNeighborsClassifier\n",
        "from sklearn import metrics\n",
        "clusters=[]\n",
        "accuracy=[]\n",
        "for i in range(1,10):\n",
        "    knnmodel=KNeighborsClassifier(n_neighbors=i)\n",
        "    knnmodel.fit(xtrain,ytrain)\n",
        "    ypred=knnmodel.predict(xtest)\n",
        "    clusters.append(i)\n",
        "    accuracy.append(metrics.accuracy_score(ytest,ypred))\n",
        "print(clusters)\n",
        "print(accuracy)"
      ]
    },
    {
      "cell_type": "code",
      "execution_count": null,
      "id": "kKjBQ-98-CUO",
      "metadata": {
        "id": "kKjBQ-98-CUO"
      },
      "outputs": [],
      "source": []
    },
    {
      "cell_type": "code",
      "execution_count": 14,
      "id": "29761e0d",
      "metadata": {
        "colab": {
          "base_uri": "https://localhost:8080/",
          "height": 595
        },
        "id": "29761e0d",
        "outputId": "a642edef-967f-4411-b49d-eaaf16929afa"
      },
      "outputs": [
        {
          "output_type": "stream",
          "name": "stdout",
          "text": [
            "Iteration 1, loss = 14.59312309\n",
            "Iteration 2, loss = 4.93740080\n",
            "Iteration 3, loss = 0.97457555\n",
            "Iteration 4, loss = 0.73794873\n",
            "Iteration 5, loss = 0.82459377\n",
            "Iteration 6, loss = 0.71642376\n",
            "Iteration 7, loss = 0.73789958\n",
            "Iteration 8, loss = 0.71283778\n",
            "Iteration 9, loss = 0.71469649\n",
            "Iteration 10, loss = 0.71212567\n",
            "Iteration 11, loss = 0.70471987\n",
            "Iteration 12, loss = 0.70289508\n",
            "Iteration 13, loss = 0.70226904\n",
            "Iteration 14, loss = 0.70247172\n",
            "Iteration 15, loss = 0.70228404\n",
            "Iteration 16, loss = 0.70185183\n",
            "Iteration 17, loss = 0.70355206\n",
            "Iteration 18, loss = 0.70164470\n",
            "Iteration 19, loss = 0.70209253\n",
            "Iteration 20, loss = 0.70246558\n",
            "Iteration 21, loss = 0.70229749\n",
            "Iteration 22, loss = 0.70240318\n",
            "Iteration 23, loss = 0.70282563\n",
            "Iteration 24, loss = 0.70290999\n",
            "Iteration 25, loss = 0.70240390\n",
            "Iteration 26, loss = 0.70360360\n",
            "Iteration 27, loss = 0.70253035\n",
            "Iteration 28, loss = 0.70288877\n",
            "Iteration 29, loss = 0.70189465\n",
            "Training loss did not improve more than tol=0.000100 for 10 consecutive epochs. Stopping.\n"
          ]
        },
        {
          "output_type": "execute_result",
          "data": {
            "text/plain": [
              "MLPClassifier(learning_rate_init=0.9, random_state=80, verbose=True)"
            ],
            "text/html": [
              "<style>#sk-container-id-1 {color: black;background-color: white;}#sk-container-id-1 pre{padding: 0;}#sk-container-id-1 div.sk-toggleable {background-color: white;}#sk-container-id-1 label.sk-toggleable__label {cursor: pointer;display: block;width: 100%;margin-bottom: 0;padding: 0.3em;box-sizing: border-box;text-align: center;}#sk-container-id-1 label.sk-toggleable__label-arrow:before {content: \"▸\";float: left;margin-right: 0.25em;color: #696969;}#sk-container-id-1 label.sk-toggleable__label-arrow:hover:before {color: black;}#sk-container-id-1 div.sk-estimator:hover label.sk-toggleable__label-arrow:before {color: black;}#sk-container-id-1 div.sk-toggleable__content {max-height: 0;max-width: 0;overflow: hidden;text-align: left;background-color: #f0f8ff;}#sk-container-id-1 div.sk-toggleable__content pre {margin: 0.2em;color: black;border-radius: 0.25em;background-color: #f0f8ff;}#sk-container-id-1 input.sk-toggleable__control:checked~div.sk-toggleable__content {max-height: 200px;max-width: 100%;overflow: auto;}#sk-container-id-1 input.sk-toggleable__control:checked~label.sk-toggleable__label-arrow:before {content: \"▾\";}#sk-container-id-1 div.sk-estimator input.sk-toggleable__control:checked~label.sk-toggleable__label {background-color: #d4ebff;}#sk-container-id-1 div.sk-label input.sk-toggleable__control:checked~label.sk-toggleable__label {background-color: #d4ebff;}#sk-container-id-1 input.sk-hidden--visually {border: 0;clip: rect(1px 1px 1px 1px);clip: rect(1px, 1px, 1px, 1px);height: 1px;margin: -1px;overflow: hidden;padding: 0;position: absolute;width: 1px;}#sk-container-id-1 div.sk-estimator {font-family: monospace;background-color: #f0f8ff;border: 1px dotted black;border-radius: 0.25em;box-sizing: border-box;margin-bottom: 0.5em;}#sk-container-id-1 div.sk-estimator:hover {background-color: #d4ebff;}#sk-container-id-1 div.sk-parallel-item::after {content: \"\";width: 100%;border-bottom: 1px solid gray;flex-grow: 1;}#sk-container-id-1 div.sk-label:hover label.sk-toggleable__label {background-color: #d4ebff;}#sk-container-id-1 div.sk-serial::before {content: \"\";position: absolute;border-left: 1px solid gray;box-sizing: border-box;top: 0;bottom: 0;left: 50%;z-index: 0;}#sk-container-id-1 div.sk-serial {display: flex;flex-direction: column;align-items: center;background-color: white;padding-right: 0.2em;padding-left: 0.2em;position: relative;}#sk-container-id-1 div.sk-item {position: relative;z-index: 1;}#sk-container-id-1 div.sk-parallel {display: flex;align-items: stretch;justify-content: center;background-color: white;position: relative;}#sk-container-id-1 div.sk-item::before, #sk-container-id-1 div.sk-parallel-item::before {content: \"\";position: absolute;border-left: 1px solid gray;box-sizing: border-box;top: 0;bottom: 0;left: 50%;z-index: -1;}#sk-container-id-1 div.sk-parallel-item {display: flex;flex-direction: column;z-index: 1;position: relative;background-color: white;}#sk-container-id-1 div.sk-parallel-item:first-child::after {align-self: flex-end;width: 50%;}#sk-container-id-1 div.sk-parallel-item:last-child::after {align-self: flex-start;width: 50%;}#sk-container-id-1 div.sk-parallel-item:only-child::after {width: 0;}#sk-container-id-1 div.sk-dashed-wrapped {border: 1px dashed gray;margin: 0 0.4em 0.5em 0.4em;box-sizing: border-box;padding-bottom: 0.4em;background-color: white;}#sk-container-id-1 div.sk-label label {font-family: monospace;font-weight: bold;display: inline-block;line-height: 1.2em;}#sk-container-id-1 div.sk-label-container {text-align: center;}#sk-container-id-1 div.sk-container {/* jupyter's `normalize.less` sets `[hidden] { display: none; }` but bootstrap.min.css set `[hidden] { display: none !important; }` so we also need the `!important` here to be able to override the default hidden behavior on the sphinx rendered scikit-learn.org. See: https://github.com/scikit-learn/scikit-learn/issues/21755 */display: inline-block !important;position: relative;}#sk-container-id-1 div.sk-text-repr-fallback {display: none;}</style><div id=\"sk-container-id-1\" class=\"sk-top-container\"><div class=\"sk-text-repr-fallback\"><pre>MLPClassifier(learning_rate_init=0.9, random_state=80, verbose=True)</pre><b>In a Jupyter environment, please rerun this cell to show the HTML representation or trust the notebook. <br />On GitHub, the HTML representation is unable to render, please try loading this page with nbviewer.org.</b></div><div class=\"sk-container\" hidden><div class=\"sk-item\"><div class=\"sk-estimator sk-toggleable\"><input class=\"sk-toggleable__control sk-hidden--visually\" id=\"sk-estimator-id-1\" type=\"checkbox\" checked><label for=\"sk-estimator-id-1\" class=\"sk-toggleable__label sk-toggleable__label-arrow\">MLPClassifier</label><div class=\"sk-toggleable__content\"><pre>MLPClassifier(learning_rate_init=0.9, random_state=80, verbose=True)</pre></div></div></div></div></div>"
            ]
          },
          "metadata": {},
          "execution_count": 14
        }
      ],
      "source": [
        "x=df[['age', 'sex', 'cp', 'trestbps', 'chol',\n",
        "              'fbs', 'restecg', 'thalach', 'exang',\n",
        "              'oldpeak', 'slope', 'ca', 'thal']]\n",
        "y=df['target']\n",
        "from sklearn.model_selection import train_test_split\n",
        "xtrain,xtest,ytrain,ytest=train_test_split(x,y,test_size=0.1)\n",
        "from sklearn.neural_network import MLPClassifier\n",
        "mlp = MLPClassifier(random_state=80,\n",
        "                    verbose=True,\n",
        "                    learning_rate_init=0.9)\n",
        "mlp.fit(xtrain,ytrain)\n"
      ]
    },
    {
      "cell_type": "code",
      "execution_count": 15,
      "id": "7f061387",
      "metadata": {
        "colab": {
          "base_uri": "https://localhost:8080/"
        },
        "id": "7f061387",
        "outputId": "f217fa47-c1f8-4b74-8082-50f5233e5fb6"
      },
      "outputs": [
        {
          "output_type": "stream",
          "name": "stdout",
          "text": [
            "accuracy calculated:\n"
          ]
        },
        {
          "output_type": "execute_result",
          "data": {
            "text/plain": [
              "0.49514563106796117"
            ]
          },
          "metadata": {},
          "execution_count": 15
        }
      ],
      "source": [
        "ypred=mlp.predict(xtest)\n",
        "from sklearn.metrics import accuracy_score\n",
        "print(\"accuracy calculated:\")\n",
        "accuracy_score(ytest,ypred)"
      ]
    },
    {
      "cell_type": "code",
      "execution_count": 16,
      "id": "a75daffd",
      "metadata": {
        "colab": {
          "base_uri": "https://localhost:8080/"
        },
        "id": "a75daffd",
        "outputId": "1b487f4a-fdbc-4bdb-cd43-975b0de71f1c"
      },
      "outputs": [
        {
          "output_type": "stream",
          "name": "stdout",
          "text": [
            "(932, 13)\n",
            "(932,)\n"
          ]
        }
      ],
      "source": [
        "xtrain,xtest,ytrain,ytest=train_test_split(X,Y,test_size=0.09,random_state=1)\n",
        "print(xtrain.shape)\n",
        "print(ytrain.shape)"
      ]
    },
    {
      "cell_type": "code",
      "execution_count": 17,
      "id": "e8a4e1a7",
      "metadata": {
        "colab": {
          "base_uri": "https://localhost:8080/"
        },
        "id": "e8a4e1a7",
        "outputId": "b033aef9-b0e0-4f4a-e184-09ed51461f8e"
      },
      "outputs": [
        {
          "output_type": "stream",
          "name": "stdout",
          "text": [
            "[0 1 1 0 0 1 1 1 1 1 1 0 1 0 0 1 0 1 0 1 1 0 0 0 1 1 0 1 0 1 1 1 0 0 1 1 1\n",
            " 0 0 1 1 0 1 1 0 1 0 1 1 1 1 1 1 1 1 0 0 1 0 0 1 0 0 0 1 1 0 0 1 1 1 0 0 0\n",
            " 1 1 0 0 1 1 0 1 0 0 0 0 1 0 1 0 1 0 1]\n",
            "93\n",
            "[0 1 1 0 0 1 1 1 1 1 1 0 1 0 0 1 0 1 0 1 1 0 0 0 1 1 0 1 0 1 1 1 0 0 1 1 1\n",
            " 0 0 1 1 0 1 1 0 1 0 1 1 1 1 1 1 1 1 0 0 1 0 0 1 0 0 0 1 1 0 0 1 1 1 0 0 0\n",
            " 1 1 0 0 1 1 0 1 0 0 0 0 1 0 1 0 1 0 1]\n",
            "[0 1 1 0 0 1 1 1 0 1 0 0 1 0 0 1 0 1 0 1 1 0 0 0 0 1 0 1 0 1 1 1 0 0 0 1 1\n",
            " 0 0 1 1 0 1 0 0 1 0 1 1 1 1 1 1 1 1 1 0 1 0 0 1 0 0 0 1 0 0 0 1 1 1 0 0 0\n",
            " 1 1 0 0 1 0 0 1 0 0 0 0 1 0 1 0 1 0 1]\n",
            "False\n",
            "accuracy score: 0.9139784946236559\n",
            "confusion matrix:\n",
            " [[41  7]\n",
            " [ 1 44]]\n"
          ]
        }
      ],
      "source": [
        "cnb=CategoricalNB()\n",
        "cnb.fit(xtrain,ytrain)\n",
        "ypredict=cnb.predict(xtest)\n",
        "print(ypredict)\n",
        "print(xtest.shape[0])\n",
        "print(ypredict)\n",
        "print(ytest)\n",
        "count=np.all(ytest!=ypredict)\n",
        "print(count)\n",
        "print(\"accuracy score:\",metrics.accuracy_score(ytest,ypredict))\n",
        "print(\"confusion matrix:\\n\",metrics.confusion_matrix(ytest,ypredict))"
      ]
    },
    {
      "cell_type": "code",
      "execution_count": 18,
      "id": "925be599",
      "metadata": {
        "colab": {
          "base_uri": "https://localhost:8080/"
        },
        "id": "925be599",
        "outputId": "a7866021-9f87-4b4f-86b5-e73ceb89add8"
      },
      "outputs": [
        {
          "output_type": "stream",
          "name": "stdout",
          "text": [
            "Accuracy: 97.09%\n"
          ]
        }
      ],
      "source": [
        "from numpy import loadtxt\n",
        "from xgboost import XGBClassifier\n",
        "from sklearn.model_selection import train_test_split\n",
        "from sklearn.metrics import accuracy_score\n",
        "seed = 5\n",
        "test_size = 0.1\n",
        "X_train, X_test, y_train, y_test = train_test_split(X, Y, test_size=test_size, random_state=seed)\n",
        "model = XGBClassifier(max_depth=6,gamma=7,n_estimators=500,subsample=0.5,colsample_bytree=0.6,nthread=2,learning_rate=0.8,eval_metric='merror',objective='binary:logistic')\n",
        "model.fit(X_train, y_train)\n",
        "y_pred = model.predict(X_test)\n",
        "predictions = [round(value) for value in y_pred]\n",
        "accuracy = accuracy_score(y_test, predictions)\n",
        "print(\"Accuracy: %.2f%%\" % (accuracy * 100.0))"
      ]
    },
    {
      "cell_type": "code",
      "execution_count": 19,
      "id": "009e8236",
      "metadata": {
        "colab": {
          "base_uri": "https://localhost:8080/"
        },
        "id": "009e8236",
        "outputId": "e55edadf-e3e3-4b60-862a-9356f85d7c73"
      },
      "outputs": [
        {
          "output_type": "stream",
          "name": "stdout",
          "text": [
            "Accuracy: 92.23%\n"
          ]
        }
      ],
      "source": [
        "from numpy import loadtxt\n",
        "from xgboost import XGBClassifier\n",
        "from sklearn.model_selection import train_test_split\n",
        "from sklearn.metrics import accuracy_score\n",
        "seed = 5\n",
        "test_size = 0.1\n",
        "X_train, X_test, y_train, y_test = train_test_split(X, Y, test_size=test_size, random_state=seed)\n",
        "model = XGBClassifier(max_depth=11,gamma=11,n_estimators=1000,subsample=0.9,nthread=2,learning_rate=0.8,eval_metric='mlogloss',objective='binary:logistic')\n",
        "model.fit(X_train, y_train)\n",
        "y_pred = model.predict(X_test)\n",
        "predictions = [value for value in y_pred]\n",
        "accuracy = accuracy_score(y_test, predictions)\n",
        "print(\"Accuracy: %.2f%%\" % (accuracy * 100.0))"
      ]
    },
    {
      "cell_type": "code",
      "execution_count": 20,
      "id": "5c4458e0",
      "metadata": {
        "colab": {
          "base_uri": "https://localhost:8080/"
        },
        "id": "5c4458e0",
        "outputId": "2c417c77-6077-42a0-a4c6-13950b45a3b1"
      },
      "outputs": [
        {
          "output_type": "stream",
          "name": "stdout",
          "text": [
            "1.0\n",
            "Accuracy: 100.00%\n"
          ]
        }
      ],
      "source": [
        "from numpy import loadtxt\n",
        "from xgboost import XGBClassifier\n",
        "from sklearn.model_selection import train_test_split\n",
        "from sklearn.metrics import accuracy_score\n",
        "test_size = 0.1\n",
        "#28,34\n",
        "X_train, X_test, y_train, y_test = train_test_split(X, Y, test_size=test_size,random_state=34)\n",
        "model = XGBClassifier(learning_rate=0.3,n_estimators=100,objective='binary:logistic',booster='gbtree',min_child_weight=1,max_depth=6,gamma=0,subsample=1,colsample_bytree=1,reg_lambda=1,reg_alpha=0,eval_metric='rmse')\n",
        "model.fit(X_train, y_train)\n",
        "y_pred = model.predict(X_test)\n",
        "predictions = [round(value) for value in y_pred]\n",
        "accuracy = accuracy_score(y_test, predictions)\n",
        "print(accuracy)\n",
        "print(\"Accuracy: %.2f%%\" % (accuracy * 100.0))"
      ]
    },
    {
      "cell_type": "code",
      "execution_count": 21,
      "id": "139f4b14",
      "metadata": {
        "colab": {
          "base_uri": "https://localhost:8080/"
        },
        "id": "139f4b14",
        "outputId": "aa3282fe-a2c0-464f-ec8d-dca0937c96fe"
      },
      "outputs": [
        {
          "output_type": "stream",
          "name": "stdout",
          "text": [
            "Accuracy: 100.00%\n"
          ]
        }
      ],
      "source": [
        "from xgboost import XGBClassifier\n",
        "from sklearn.model_selection import train_test_split\n",
        "from sklearn.metrics import accuracy_score\n",
        "\n",
        "# Assuming X and Y are defined and contain the features and target variable respectively\n",
        "\n",
        "# Splitting the data into train and test sets\n",
        "test_size = 0.1\n",
        "X_train, X_test, y_train, y_test = train_test_split(X, Y, test_size=test_size, random_state=34)\n",
        "\n",
        "# Defining the XGBoost classifier with appropriate parameters\n",
        "model = XGBClassifier(learning_rate=0.3,\n",
        "                      n_estimators=100,\n",
        "                      objective='binary:logistic',  # Set to 'binary:logistic' for binary classification\n",
        "                      booster='gbtree',\n",
        "                      min_child_weight=1,\n",
        "                      max_depth=8,\n",
        "                      gamma=0,\n",
        "                      subsample=1,\n",
        "                      colsample_bytree=1,\n",
        "                      reg_lambda=2,\n",
        "                      reg_alpha=4,\n",
        "                      eval_metric='mae')\n",
        "\n",
        "# Training the model\n",
        "model.fit(X_train, y_train)\n",
        "\n",
        "# Making predictions on the test set\n",
        "y_pred = model.predict(X_test)\n",
        "\n",
        "# Calculating accuracy\n",
        "accuracy = accuracy_score(y_test, y_pred)\n",
        "print(\"Accuracy: %.2f%%\" % (accuracy * 100.0))\n"
      ]
    },
    {
      "cell_type": "code",
      "execution_count": 22,
      "id": "8a7d5a7d",
      "metadata": {
        "colab": {
          "base_uri": "https://localhost:8080/"
        },
        "id": "8a7d5a7d",
        "outputId": "f8944bc8-db3a-4c2d-c494-3402b43c1ab6"
      },
      "outputs": [
        {
          "output_type": "stream",
          "name": "stdout",
          "text": [
            "[[52.  1.  0. ...  2.  3.  0.]\n",
            " [53.  1.  0. ...  0.  3.  0.]\n",
            " [70.  1.  0. ...  0.  3.  0.]\n",
            " ...\n",
            " [47.  1.  0. ...  1.  2.  0.]\n",
            " [50.  0.  0. ...  0.  2.  1.]\n",
            " [54.  1.  0. ...  1.  3.  0.]]\n",
            "(1025, 13)\n",
            "(1025,)\n",
            "[[0.47916667 1.         0.         ... 1.         0.5        1.        ]\n",
            " [0.5        1.         0.         ... 0.         0.         1.        ]\n",
            " [0.85416667 1.         0.         ... 0.         0.         1.        ]\n",
            " ...\n",
            " [0.375      1.         0.         ... 0.5        0.25       0.66666667]\n",
            " [0.4375     0.         0.         ... 1.         0.         0.66666667]\n",
            " [0.52083333 1.         0.         ... 0.5        0.25       1.        ]]\n",
            "coeff: [[-0.751816   -1.60234071  2.16451096 -1.32628055 -1.35261865 -0.00362265\n",
            "   0.73534451  2.12637067 -1.05096654 -2.55306532  1.22844328 -2.55172814\n",
            "  -2.17558692]]\n",
            "intercepts: [2.15531616]\n",
            "0 0\n",
            "0 0\n",
            "0 0\n",
            "0 0\n",
            "0 0\n",
            "1 1\n",
            "0 0\n",
            "0 0\n",
            "0 0\n",
            "0 0\n",
            "1 1\n",
            "0 0\n",
            "1 1\n",
            "0 0\n",
            "0 1\n",
            "1 1\n",
            "1 1\n",
            "0 0\n",
            "1 1\n",
            "1 1\n",
            "0 1\n",
            "1 1\n",
            "1 0\n",
            "1 1\n",
            "1 1\n",
            "0 0\n",
            "1 1\n",
            "0 1\n",
            "0 1\n",
            "0 0\n",
            "0 0\n",
            "1 1\n",
            "0 0\n",
            "0 0\n",
            "1 1\n",
            "0 1\n",
            "1 1\n",
            "1 1\n",
            "1 0\n",
            "0 0\n",
            "1 1\n",
            "1 1\n",
            "0 1\n",
            "0 0\n",
            "1 1\n",
            "1 1\n",
            "1 1\n",
            "0 0\n",
            "1 1\n",
            "0 0\n",
            "1 1\n",
            "0 0\n",
            "1 1\n",
            "0 0\n",
            "0 0\n",
            "0 0\n",
            "1 1\n",
            "1 1\n",
            "0 1\n",
            "0 1\n",
            "1 1\n",
            "1 1\n",
            "0 0\n",
            "1 1\n",
            "1 1\n",
            "0 1\n",
            "1 1\n",
            "0 0\n",
            "1 1\n",
            "0 0\n",
            "0 0\n",
            "0 0\n",
            "0 0\n",
            "0 0\n",
            "0 0\n",
            "1 1\n",
            "1 1\n",
            "0 0\n",
            "1 1\n",
            "1 1\n",
            "0 1\n",
            "0 1\n",
            "0 1\n",
            "1 1\n",
            "1 1\n",
            "1 1\n",
            "1 1\n",
            "0 0\n",
            "0 0\n",
            "0 0\n",
            "1 1\n",
            "1 1\n",
            "0 0\n",
            "0 0\n",
            "1 1\n",
            "1 1\n",
            "1 1\n",
            "0 0\n",
            "0 1\n",
            "1 1\n",
            "1 1\n",
            "1 1\n",
            "1 1\n",
            "1 1\n",
            "1 1\n",
            "0 0\n",
            "0 0\n",
            "0 0\n",
            "0 1\n",
            "0 0\n",
            "0 1\n",
            "1 0\n",
            "0 0\n",
            "0 0\n",
            "0 1\n",
            "0 0\n",
            "0 0\n",
            "0 0\n",
            "1 1\n",
            "1 1\n",
            "1 1\n",
            "0 0\n",
            "0 0\n",
            "1 1\n",
            "0 0\n",
            "1 1\n",
            "1 0\n",
            "1 1\n",
            "1 0\n",
            "1 1\n",
            "1 1\n",
            "1 1\n",
            "1 1\n",
            "1 1\n",
            "1 1\n",
            "0 0\n",
            "1 1\n",
            "1 1\n",
            "1 1\n",
            "1 1\n",
            "0 0\n",
            "0 1\n",
            "0 0\n",
            "1 1\n",
            "1 1\n",
            "0 0\n",
            "1 1\n",
            "0 1\n",
            "1 1\n",
            "1 1\n",
            "0 0\n",
            "0 0\n",
            "0 0\n",
            "1 1\n",
            "0 0\n",
            "1 1\n",
            "1 1\n",
            "1 1\n",
            "1 1\n",
            "1 1\n",
            "0 0\n",
            "1 1\n",
            "0 0\n",
            "0 0\n",
            "0 0\n",
            "0 0\n",
            "0 0\n",
            "1 1\n",
            "1 1\n",
            "1 1\n",
            "1 1\n",
            "0 0\n",
            "1 1\n",
            "1 1\n",
            "0 0\n",
            "0 0\n",
            "0 0\n",
            "0 0\n",
            "0 1\n",
            "0 0\n",
            "0 0\n",
            "1 1\n",
            "0 0\n",
            "1 1\n",
            "1 1\n",
            "0 0\n",
            "0 0\n",
            "0 0\n",
            "0 0\n",
            "0 0\n",
            "1 1\n",
            "1 1\n",
            "1 1\n",
            "1 1\n",
            "0 0\n",
            "1 1\n",
            "0 0\n",
            "1 1\n",
            "1 1\n",
            "0 0\n",
            "1 1\n",
            "1 1\n",
            "1 1\n",
            "1 1\n",
            "1 1\n",
            "1 1\n",
            "0 1\n",
            "1 1\n",
            "1 1\n",
            "0 0\n",
            "1 1\n",
            "0 0\n",
            "0 0\n",
            "1 1\n",
            "1 1\n",
            "1 1\n",
            "0 0\n",
            "1 1\n",
            "0 0\n",
            "0 0\n",
            "0 1\n",
            "0 0\n",
            "1 1\n",
            "1 1\n",
            "1 0\n",
            "1 1\n",
            "0 1\n",
            "1 1\n",
            "1 1\n",
            "0 0\n",
            "0 0\n",
            "1 1\n",
            "0 0\n",
            "1 1\n",
            "1 1\n",
            "1 1\n",
            "0 1\n",
            "0 1\n",
            "0 0\n",
            "0 0\n",
            "1 1\n",
            "0 1\n",
            "1 1\n",
            "0 1\n",
            "1 1\n",
            "1 1\n",
            "0 0\n",
            "0 0\n",
            "1 1\n",
            "1 1\n",
            "0 0\n",
            "1 1\n",
            "0 0\n",
            "0 0\n",
            "0 0\n",
            "1 1\n",
            "1 1\n",
            "1 1\n",
            "0 1\n",
            "1 0\n",
            "1 1\n",
            "1 1\n",
            "1 1\n",
            "1 1\n",
            "0 0\n",
            "1 0\n",
            "0 0\n",
            "0 0\n",
            "0 0\n",
            "1 1\n",
            "1 1\n",
            "1 1\n",
            "1 1\n",
            "0 0\n",
            "1 0\n",
            "0 0\n",
            "1 0\n",
            "1 1\n",
            "0 0\n",
            "1 1\n",
            "1 1\n",
            "1 1\n",
            "1 1\n",
            "1 1\n",
            "0 0\n",
            "1 1\n",
            "1 1\n",
            "1 1\n",
            "1 1\n",
            "0 1\n",
            "1 0\n",
            "0 0\n",
            "1 0\n",
            "1 1\n",
            "0 0\n",
            "0 0\n",
            "0 0\n",
            "0 0\n",
            "1 1\n",
            "1 1\n",
            "1 1\n",
            "1 1\n",
            "1 1\n",
            "0 0\n",
            "1 1\n",
            "0 0\n",
            "1 1\n",
            "1 1\n",
            "0 1\n",
            "1 1\n",
            "0 0\n",
            "0 0\n",
            "0 0\n",
            "1 1\n",
            "1 1\n",
            "1 1\n",
            "1 1\n",
            "1 1\n",
            "0 0\n",
            "1 1\n",
            "1 1\n",
            "1 1\n",
            "0 0\n",
            "0 0\n",
            "1 1\n",
            "1 1\n",
            "0 0\n",
            "0 0\n",
            "0 0\n",
            "1 1\n",
            "1 1\n",
            "0 0\n",
            "1 1\n",
            "1 1\n",
            "0 0\n",
            "0 0\n",
            "1 1\n",
            "1 0\n",
            "0 1\n",
            "0 0\n",
            "1 1\n",
            "1 1\n",
            "1 1\n",
            "1 1\n",
            "1 1\n",
            "0 0\n",
            "0 0\n",
            "1 1\n",
            "0 0\n",
            "0 1\n",
            "1 0\n",
            "0 0\n",
            "0 0\n",
            "1 0\n",
            "0 1\n",
            "1 1\n",
            "0 0\n",
            "0 0\n",
            "0 1\n",
            "1 1\n",
            "1 1\n",
            "1 0\n",
            "1 1\n",
            "1 1\n",
            "0 1\n",
            "1 1\n",
            "0 0\n",
            "0 0\n",
            "1 0\n",
            "1 1\n",
            "0 0\n",
            "0 0\n",
            "1 1\n",
            "0 1\n",
            "1 1\n",
            "1 0\n",
            "1 1\n",
            "1 0\n",
            "0 0\n",
            "1 1\n",
            "0 0\n",
            "0 0\n",
            "0 0\n",
            "0 0\n",
            "0 0\n",
            "1 1\n",
            "1 1\n",
            "0 0\n",
            "0 0\n",
            "1 1\n",
            "0 1\n",
            "0 1\n",
            "1 1\n",
            "0 0\n",
            "0 0\n",
            "1 1\n",
            "0 0\n",
            "0 0\n",
            "1 0\n",
            "1 1\n",
            "0 0\n",
            "1 1\n",
            "1 1\n",
            "1 1\n",
            "0 0\n",
            "0 1\n",
            "1 1\n",
            "0 0\n",
            "1 1\n",
            "0 1\n",
            "1 1\n",
            "0 0\n",
            "0 0\n",
            "0 0\n",
            "0 1\n",
            "1 1\n",
            "1 0\n",
            "1 0\n",
            "1 1\n",
            "1 1\n",
            "1 1\n",
            "1 1\n",
            "1 1\n",
            "0 1\n",
            "0 0\n",
            "0 0\n",
            "1 1\n",
            "1 1\n",
            "0 0\n",
            "0 1\n",
            "0 1\n",
            "0 0\n",
            "1 1\n",
            "1 1\n",
            "1 1\n",
            "1 1\n",
            "0 0\n",
            "0 0\n",
            "1 1\n",
            "0 1\n",
            "0 0\n",
            "0 0\n",
            "0 0\n",
            "1 1\n",
            "1 1\n",
            "1 1\n",
            "1 1\n",
            "0 0\n",
            "1 1\n",
            "0 1\n",
            "0 0\n",
            "1 1\n",
            "0 0\n",
            "1 1\n",
            "0 0\n",
            "1 1\n",
            "0 1\n",
            "1 1\n",
            "1 1\n",
            "1 0\n",
            "0 0\n",
            "1 1\n",
            "1 1\n",
            "1 1\n",
            "1 1\n",
            "1 1\n",
            "1 1\n",
            "0 0\n",
            "1 0\n",
            "0 0\n",
            "1 1\n",
            "1 1\n",
            "1 1\n",
            "1 1\n",
            "0 0\n",
            "1 1\n",
            "0 0\n",
            "0 0\n",
            "1 1\n",
            "0 0\n",
            "0 0\n",
            "0 0\n",
            "0 0\n",
            "1 1\n",
            "0 1\n",
            "0 0\n",
            "0 1\n",
            "0 0\n",
            "1 1\n",
            "1 0\n",
            "1 1\n",
            "1 1\n",
            "0 0\n",
            "0 0\n",
            "1 1\n",
            "1 0\n",
            "0 0\n",
            "0 1\n",
            "1 1\n",
            "1 1\n",
            "1 1\n",
            "1 1\n",
            "1 1\n",
            "1 1\n",
            "0 1\n",
            "1 1\n",
            "0 0\n",
            "1 1\n",
            "0 0\n",
            "0 0\n",
            "1 1\n",
            "0 0\n",
            "0 1\n",
            "0 0\n",
            "1 1\n",
            "0 0\n",
            "0 0\n",
            "1 1\n",
            "0 0\n",
            "0 0\n",
            "0 0\n",
            "1 0\n",
            "1 1\n",
            "0 0\n",
            "0 0\n",
            "1 1\n",
            "0 0\n",
            "1 1\n",
            "1 0\n",
            "1 1\n",
            "0 0\n",
            "1 1\n",
            "0 1\n",
            "1 1\n",
            "1 1\n",
            "1 1\n",
            "1 1\n",
            "1 1\n",
            "0 0\n",
            "1 1\n",
            "0 0\n",
            "1 1\n",
            "1 1\n",
            "0 1\n",
            "1 0\n",
            "0 0\n",
            "0 0\n",
            "1 1\n",
            "1 1\n",
            "1 1\n",
            "0 0\n",
            "0 0\n",
            "0 0\n",
            "1 1\n",
            "0 0\n",
            "0 0\n",
            "0 0\n",
            "1 1\n",
            "1 1\n",
            "0 0\n",
            "1 1\n",
            "1 1\n",
            "1 1\n",
            "0 1\n",
            "0 0\n",
            "1 1\n",
            "1 1\n",
            "1 1\n",
            "1 1\n",
            "1 1\n",
            "1 1\n",
            "0 0\n",
            "1 1\n",
            "0 1\n",
            "0 0\n",
            "1 1\n",
            "1 1\n",
            "0 0\n",
            "1 1\n",
            "0 0\n",
            "1 1\n",
            "1 1\n",
            "1 1\n",
            "0 0\n",
            "0 0\n",
            "1 1\n",
            "0 0\n",
            "0 0\n",
            "0 0\n",
            "0 0\n",
            "1 1\n",
            "0 0\n",
            "0 0\n",
            "0 0\n",
            "0 0\n",
            "0 0\n",
            "1 1\n",
            "1 1\n",
            "0 1\n",
            "1 1\n",
            "0 1\n",
            "0 0\n",
            "1 1\n",
            "1 1\n",
            "1 1\n",
            "1 1\n",
            "0 0\n",
            "0 0\n",
            "0 0\n",
            "0 0\n",
            "0 0\n",
            "0 0\n",
            "0 0\n",
            "0 0\n",
            "0 0\n",
            "1 1\n",
            "1 1\n",
            "1 1\n",
            "1 1\n",
            "0 1\n",
            "0 0\n",
            "0 0\n",
            "0 0\n",
            "0 0\n",
            "1 0\n",
            "0 0\n",
            "0 0\n",
            "0 1\n",
            "1 1\n",
            "0 1\n",
            "0 1\n",
            "1 1\n",
            "1 1\n",
            "0 0\n",
            "0 0\n",
            "1 1\n",
            "0 0\n",
            "1 1\n",
            "0 1\n",
            "1 1\n",
            "1 1\n",
            "0 0\n",
            "1 0\n",
            "1 1\n",
            "1 1\n",
            "0 0\n",
            "0 1\n",
            "1 0\n",
            "1 1\n",
            "1 1\n",
            "0 0\n",
            "1 1\n",
            "1 1\n",
            "0 0\n",
            "1 1\n",
            "1 1\n",
            "0 1\n",
            "1 1\n",
            "0 0\n",
            "1 1\n",
            "0 0\n",
            "0 0\n",
            "1 1\n",
            "1 1\n",
            "1 1\n",
            "1 1\n",
            "1 1\n",
            "0 1\n",
            "1 1\n",
            "0 0\n",
            "0 1\n",
            "0 0\n",
            "1 1\n",
            "1 1\n",
            "0 0\n",
            "0 0\n",
            "0 0\n",
            "0 0\n",
            "1 1\n",
            "0 0\n",
            "1 1\n",
            "0 0\n",
            "0 0\n",
            "0 0\n",
            "0 1\n",
            "0 0\n",
            "0 1\n",
            "0 0\n",
            "0 0\n",
            "1 1\n",
            "1 0\n",
            "1 1\n",
            "0 0\n",
            "1 1\n",
            "0 0\n",
            "0 0\n",
            "1 1\n",
            "0 1\n",
            "0 0\n",
            "0 0\n",
            "1 1\n",
            "0 0\n",
            "1 1\n",
            "1 0\n",
            "1 1\n",
            "0 0\n",
            "0 0\n",
            "1 1\n",
            "1 1\n",
            "0 1\n",
            "1 1\n",
            "0 0\n",
            "1 1\n",
            "1 1\n",
            "1 1\n",
            "1 1\n",
            "0 0\n",
            "0 1\n",
            "1 1\n",
            "1 0\n",
            "0 1\n",
            "1 1\n",
            "1 1\n",
            "1 1\n",
            "1 1\n",
            "0 0\n",
            "0 0\n",
            "1 1\n",
            "0 0\n",
            "1 1\n",
            "1 1\n",
            "0 1\n",
            "1 1\n",
            "1 1\n",
            "0 1\n",
            "1 1\n",
            "0 0\n",
            "0 0\n",
            "0 0\n",
            "0 0\n",
            "1 1\n",
            "1 1\n",
            "0 0\n",
            "1 0\n",
            "1 1\n",
            "1 1\n",
            "0 1\n",
            "0 0\n",
            "1 1\n",
            "1 0\n",
            "1 1\n",
            "1 1\n",
            "1 1\n",
            "1 1\n",
            "1 1\n",
            "1 1\n",
            "0 0\n",
            "1 0\n",
            "1 1\n",
            "0 1\n",
            "0 0\n",
            "1 1\n",
            "1 1\n",
            "1 1\n",
            "0 0\n",
            "0 0\n",
            "0 0\n",
            "0 0\n",
            "1 1\n",
            "1 1\n",
            "1 1\n",
            "1 1\n",
            "0 0\n",
            "0 0\n",
            "1 1\n",
            "1 1\n",
            "0 0\n",
            "0 0\n",
            "0 1\n",
            "1 1\n",
            "0 0\n",
            "0 0\n",
            "1 0\n",
            "1 1\n",
            "1 1\n",
            "0 0\n",
            "0 0\n",
            "0 0\n",
            "0 0\n",
            "0 0\n",
            "0 0\n",
            "0 0\n",
            "0 0\n",
            "1 1\n",
            "0 0\n",
            "1 1\n",
            "1 1\n",
            "0 0\n",
            "0 1\n",
            "1 1\n",
            "0 0\n",
            "1 1\n",
            "0 1\n",
            "0 1\n",
            "1 1\n",
            "1 0\n",
            "0 0\n",
            "1 1\n",
            "1 1\n",
            "1 1\n",
            "0 0\n",
            "0 1\n",
            "0 0\n",
            "0 0\n",
            "1 1\n",
            "1 0\n",
            "1 1\n",
            "1 1\n",
            "1 1\n",
            "0 0\n",
            "0 0\n",
            "0 0\n",
            "0 0\n",
            "1 1\n",
            "0 0\n",
            "1 1\n",
            "1 1\n",
            "0 0\n",
            "1 1\n",
            "0 0\n",
            "1 1\n",
            "1 0\n",
            "1 1\n",
            "0 0\n",
            "0 0\n",
            "0 1\n",
            "1 1\n",
            "1 1\n",
            "1 1\n",
            "1 0\n",
            "0 0\n",
            "1 1\n",
            "0 0\n",
            "0 1\n",
            "0 0\n",
            "0 0\n",
            "1 1\n",
            "0 0\n",
            "1 1\n",
            "0 0\n",
            "0 1\n",
            "1 1\n",
            "0 0\n",
            "0 0\n",
            "0 1\n",
            "1 1\n",
            "1 1\n",
            "1 1\n",
            "1 1\n",
            "0 0\n",
            "0 1\n",
            "0 1\n",
            "0 1\n",
            "0 0\n",
            "0 1\n",
            "1 1\n",
            "1 1\n",
            "1 1\n",
            "1 1\n",
            "1 1\n",
            "1 1\n",
            "1 1\n",
            "1 1\n",
            "1 1\n",
            "0 1\n",
            "0 0\n",
            "0 0\n",
            "1 1\n",
            "0 0\n",
            "1 1\n",
            "1 0\n",
            "0 1\n",
            "0 0\n",
            "0 0\n",
            "0 0\n",
            "0 0\n",
            "0 0\n",
            "1 0\n",
            "0 0\n",
            "0 0\n",
            "0 0\n",
            "1 1\n",
            "0 0\n",
            "0 1\n",
            "0 0\n",
            "0 1\n",
            "1 0\n",
            "1 1\n",
            "1 1\n",
            "1 0\n",
            "0 0\n",
            "1 1\n",
            "0 0\n",
            "0 1\n",
            "1 1\n",
            "0 0\n",
            "1 1\n",
            "1 1\n",
            "0 0\n",
            "0 0\n",
            "0 1\n",
            "0 1\n",
            "0 0\n",
            "1 0\n",
            "0 0\n",
            "0 0\n",
            "0 0\n",
            "1 1\n",
            "0 1\n",
            "0 1\n",
            "0 0\n",
            "0 0\n",
            "1 1\n",
            "1 1\n",
            "0 1\n",
            "0 0\n",
            "0 0\n",
            "1 1\n",
            "0 0\n",
            "0 0\n",
            "0 0\n",
            "0 1\n",
            "1 1\n",
            "0 1\n",
            "1 1\n",
            "1 1\n",
            "1 1\n",
            "0 1\n",
            "1 0\n",
            "1 1\n",
            "0 0\n",
            "1 1\n",
            "1 1\n",
            "1 1\n",
            "0 0\n",
            "1 1\n",
            "1 1\n",
            "1 1\n",
            "0 0\n",
            "1 0\n",
            "0 0\n",
            "0 1\n",
            "1 1\n",
            "1 1\n",
            "1 1\n",
            "1 0\n",
            "1 1\n",
            "0 1\n",
            "1 1\n",
            "1 1\n",
            "1 1\n",
            "1 1\n",
            "1 0\n",
            "0 0\n",
            "1 1\n",
            "1 1\n",
            "0 0\n",
            "1 1\n",
            "0 0\n",
            "1 1\n",
            "1 1\n",
            "1 1\n",
            "1 1\n",
            "1 1\n",
            "1 1\n",
            "0 0\n",
            "0 0\n",
            "1 1\n",
            "0 1\n",
            "0 0\n",
            "1 1\n",
            "0 0\n",
            "1 1\n",
            "1 0\n",
            "1 0\n",
            "1 0\n",
            "0 0\n",
            "0 1\n",
            "0 0\n",
            "1 1\n",
            "1 1\n",
            "0 0\n",
            "1 1\n",
            "0 0\n",
            "0 0\n",
            "1 1\n",
            "0 0\n",
            "0 0\n",
            "0 0\n",
            "0 0\n",
            "0 0\n",
            "1 1\n",
            "0 0\n",
            "1 0\n",
            "1 1\n",
            "0 0\n",
            "1 1\n",
            "1 1\n",
            "1 1\n",
            "0 1\n",
            "0 0\n",
            "1 1\n",
            "0 0\n",
            "0 0\n",
            "1 1\n",
            "0 0\n",
            "0 1\n",
            "0 0\n",
            "0 1\n",
            "1 1\n",
            "1 1\n",
            "0 0\n",
            "0 0\n",
            "1 1\n",
            "0 0\n",
            "accuracy: 0.8390243902439024\n",
            "confusion-matrix:\n",
            " [[390 109]\n",
            " [ 56 470]]\n"
          ]
        }
      ],
      "source": [
        "regress=linear_model.LogisticRegression()\n",
        "df1=df.values\n",
        "print(df1)\n",
        "xtrain=df1[:,:13]\n",
        "xtrain=xtrain.astype('int')\n",
        "ytrain=df1[:,13]\n",
        "ytrain=ytrain.astype('int')\n",
        "print(xtrain.shape)\n",
        "print(ytrain.shape)\n",
        "from sklearn.preprocessing import MinMaxScaler\n",
        "xtrain=MinMaxScaler().fit_transform(xtrain)\n",
        "print(xtrain)\n",
        "regress.fit(xtrain,ytrain)\n",
        "print(\"coeff:\",regress.coef_)\n",
        "print(\"intercepts:\",regress.intercept_)\n",
        "ypredicted=regress.predict(xtrain)\n",
        "for i in range(0,len(xtrain)):\n",
        "    print(ytrain[i],ypredicted[i])\n",
        "#metrics\n",
        "from sklearn import metrics\n",
        "print(\"accuracy:\",metrics.accuracy_score(ytrain,ypredicted))\n",
        "print(\"confusion-matrix:\\n\",metrics.confusion_matrix(ytrain,ypredicted))"
      ]
    },
    {
      "cell_type": "code",
      "execution_count": 23,
      "id": "52c05c28",
      "metadata": {
        "colab": {
          "base_uri": "https://localhost:8080/"
        },
        "id": "52c05c28",
        "outputId": "88b0e425-17ea-4bfb-f4ad-83978fe0e942"
      },
      "outputs": [
        {
          "output_type": "stream",
          "name": "stdout",
          "text": [
            "[LibSVM]\n",
            "Accuracy Of SVM For The Given Dataset :  0.5135427952329361\n"
          ]
        }
      ],
      "source": [
        "from sklearn.model_selection import train_test_split\n",
        "training_set, test_set = train_test_split(df, test_size = 0.9, random_state = 42)\n",
        "X_train = training_set.iloc[:,0:13].values\n",
        "Y_train = training_set.iloc[:,13].values\n",
        "X_test = test_set.iloc[:,0:13].values\n",
        "Y_test = test_set.iloc[:,13].values\n",
        "from sklearn.svm import SVC\n",
        "classifier = SVC(kernel='sigmoid',verbose=True,decision_function_shape='ovo')\n",
        "classifier.fit(X_train,Y_train)\n",
        "Y_pred = classifier.predict(X_test)\n",
        "from sklearn.metrics import confusion_matrix\n",
        "cm = confusion_matrix(Y_test,Y_pred)\n",
        "accuracy = float(cm.diagonal().sum())/len(Y_test)\n",
        "print(\"\\nAccuracy Of SVM For The Given Dataset : \", accuracy)"
      ]
    },
    {
      "cell_type": "code",
      "execution_count": 24,
      "id": "b9136ae6",
      "metadata": {
        "id": "b9136ae6",
        "outputId": "a1a8b994-e222-41ed-ee14-b78430a8b50c",
        "colab": {
          "base_uri": "https://localhost:8080/"
        }
      },
      "outputs": [
        {
          "output_type": "stream",
          "name": "stdout",
          "text": [
            "[LibSVM]\n",
            "Accuracy Of SVM For The Given Dataset :  0.8104008667388949\n"
          ]
        }
      ],
      "source": [
        "from sklearn.model_selection import train_test_split\n",
        "training_set, test_set = train_test_split(df, test_size = 0.9, random_state = 42)\n",
        "X_train = training_set.iloc[:,0:13].values\n",
        "Y_train = training_set.iloc[:,13].values\n",
        "X_test = test_set.iloc[:,0:13].values\n",
        "Y_test = test_set.iloc[:,13].values\n",
        "from sklearn.svm import SVC\n",
        "classifier = SVC(kernel='linear', random_state = 42,verbose=True,decision_function_shape='ovr',break_ties=True)\n",
        "classifier.fit(X_train,Y_train)\n",
        "Y_pred = classifier.predict(X_test)\n",
        "from sklearn.metrics import confusion_matrix\n",
        "cm = confusion_matrix(Y_test,Y_pred)\n",
        "accuracy = float(cm.diagonal().sum())/len(Y_test)\n",
        "print(\"\\nAccuracy Of SVM For The Given Dataset : \", accuracy)"
      ]
    },
    {
      "cell_type": "code",
      "execution_count": 25,
      "id": "f14b6d54",
      "metadata": {
        "colab": {
          "base_uri": "https://localhost:8080/"
        },
        "id": "f14b6d54",
        "outputId": "e8703f98-731e-40c4-b0ad-2c1b0886a427"
      },
      "outputs": [
        {
          "output_type": "stream",
          "name": "stdout",
          "text": [
            "[LibSVM]\n",
            "Accuracy Of SVM For The Given Dataset :  0.8155339805825242\n",
            "0.8155339805825242\n"
          ]
        }
      ],
      "source": [
        "from sklearn.model_selection import train_test_split\n",
        "y=df['target'].to_numpy()\n",
        "x=df.iloc[:,0:13].to_numpy()\n",
        "xtrain,xtest,ytrain,ytest=train_test_split(x,y,test_size=0.1)\n",
        "from sklearn.svm import SVC\n",
        "classifier = SVC(kernel='linear',verbose=True,decision_function_shape='ovr')\n",
        "classifier.fit(xtrain,ytrain)\n",
        "Y_pred = classifier.predict(xtest)\n",
        "from sklearn.metrics import confusion_matrix\n",
        "cm = confusion_matrix(ytest,Y_pred)\n",
        "accuracy = float(cm.diagonal().sum())/len(ytest)\n",
        "print(\"\\nAccuracy Of SVM For The Given Dataset : \", accuracy)\n",
        "Accuracy=accuracy_score(Y_pred,ytest)\n",
        "print(Accuracy)"
      ]
    },
    {
      "cell_type": "code",
      "execution_count": 26,
      "id": "e95e718c",
      "metadata": {
        "colab": {
          "base_uri": "https://localhost:8080/"
        },
        "id": "e95e718c",
        "outputId": "ed421b3e-26d9-49df-f5e9-721808ebaad6"
      },
      "outputs": [
        {
          "output_type": "stream",
          "name": "stdout",
          "text": [
            "[LibSVM]\n",
            "Accuracy Of SVM For The Given Dataset :  0.8172043010752689\n",
            "0.8172043010752689\n"
          ]
        }
      ],
      "source": [
        "from sklearn.model_selection import train_test_split\n",
        "y=df['target'].to_numpy()\n",
        "x=df.iloc[:,0:13].to_numpy()\n",
        "xtrain,xtest,ytrain,ytest=train_test_split(x,y,test_size=0.09)\n",
        "from sklearn.svm import SVC\n",
        "classifier = SVC(kernel='linear',verbose=True,decision_function_shape='ovr')\n",
        "classifier.fit(xtrain,ytrain)\n",
        "Y_pred = classifier.predict(xtest)\n",
        "from sklearn.metrics import confusion_matrix\n",
        "cm = confusion_matrix(ytest,Y_pred)\n",
        "accuracy = float(cm.diagonal().sum())/len(ytest)\n",
        "print(\"\\nAccuracy Of SVM For The Given Dataset : \", accuracy)\n",
        "Accuracy=accuracy_score(Y_pred,ytest)\n",
        "print(Accuracy)"
      ]
    },
    {
      "cell_type": "code",
      "execution_count": 27,
      "id": "683384d8",
      "metadata": {
        "colab": {
          "base_uri": "https://localhost:8080/"
        },
        "id": "683384d8",
        "outputId": "4f948de1-473a-44e7-bbf6-6c67bf0fec3a"
      },
      "outputs": [
        {
          "output_type": "execute_result",
          "data": {
            "text/plain": [
              "age        -0.248866\n",
              "sex        -0.851449\n",
              "cp          0.529455\n",
              "trestbps    0.739768\n",
              "chol        1.074073\n",
              "fbs         1.971339\n",
              "restecg     0.180440\n",
              "thalach    -0.513777\n",
              "exang       0.692655\n",
              "oldpeak     1.210899\n",
              "slope      -0.479134\n",
              "ca          1.261189\n",
              "thal       -0.524390\n",
              "target     -0.052778\n",
              "dtype: float64"
            ]
          },
          "metadata": {},
          "execution_count": 27
        }
      ],
      "source": [
        "df.skew()"
      ]
    },
    {
      "cell_type": "code",
      "execution_count": 28,
      "id": "3fc8d482",
      "metadata": {
        "colab": {
          "base_uri": "https://localhost:8080/"
        },
        "id": "3fc8d482",
        "outputId": "05c564b5-832b-4f47-e8bc-62bf7a383f03"
      },
      "outputs": [
        {
          "output_type": "execute_result",
          "data": {
            "text/plain": [
              "age        -0.525618\n",
              "sex        -1.277531\n",
              "cp         -1.149500\n",
              "trestbps    0.991221\n",
              "chol        3.996803\n",
              "fbs         1.889859\n",
              "restecg    -1.309614\n",
              "thalach    -0.088822\n",
              "exang      -1.523205\n",
              "oldpeak     1.314471\n",
              "slope      -0.647129\n",
              "ca          0.701123\n",
              "thal        0.250827\n",
              "target     -2.001123\n",
              "dtype: float64"
            ]
          },
          "metadata": {},
          "execution_count": 28
        }
      ],
      "source": [
        "df.kurtosis()"
      ]
    },
    {
      "cell_type": "code",
      "execution_count": 29,
      "id": "4bb3d215",
      "metadata": {
        "colab": {
          "base_uri": "https://localhost:8080/",
          "height": 703
        },
        "id": "4bb3d215",
        "outputId": "a009eb4c-79eb-407c-fa66-ccf02934d679"
      },
      "outputs": [
        {
          "output_type": "execute_result",
          "data": {
            "text/plain": [
              "<Axes: >"
            ]
          },
          "metadata": {},
          "execution_count": 29
        },
        {
          "output_type": "display_data",
          "data": {
            "text/plain": [
              "<Figure size 1000x750 with 2 Axes>"
            ],
            "image/png": "[encoded data removed]"
          },
          "metadata": {}
        }
      ],
      "source": [
        "plt.figure(figsize=(10,7.5))\n",
        "sb.heatmap(df.corr(), annot=True, cmap='BrBG')"
      ]
    },
    {
      "cell_type": "code",
      "execution_count": 30,
      "id": "8a16c852",
      "metadata": {
        "colab": {
          "base_uri": "https://localhost:8080/"
        },
        "id": "8a16c852",
        "outputId": "fa260627-3a13-4598-88ba-09c7576a0e03"
      },
      "outputs": [
        {
          "output_type": "execute_result",
          "data": {
            "text/plain": [
              "array([0, 0, 0, ..., 0, 1, 0])"
            ]
          },
          "metadata": {},
          "execution_count": 30
        }
      ],
      "source": [
        "x = df.iloc[:,:-1].values\n",
        "y = df.iloc[:,-1].values\n",
        "x\n",
        "y"
      ]
    },
    {
      "cell_type": "code",
      "execution_count": 31,
      "id": "9a9cd7ee",
      "metadata": {
        "colab": {
          "base_uri": "https://localhost:8080/"
        },
        "id": "9a9cd7ee",
        "outputId": "34e15d16-fec3-4942-8875-e93f88e6aa3c",
        "scrolled": true
      },
      "outputs": [
        {
          "output_type": "stream",
          "name": "stdout",
          "text": [
            "Counter({1: 526, 0: 499})\n"
          ]
        }
      ],
      "source": [
        "from collections import Counter\n",
        "counter_before = Counter(y)\n",
        "print(counter_before)"
      ]
    },
    {
      "cell_type": "code",
      "execution_count": 32,
      "id": "a6f70f76",
      "metadata": {
        "colab": {
          "base_uri": "https://localhost:8080/"
        },
        "id": "a6f70f76",
        "outputId": "74d0a5cf-1010-43c3-c263-2ee283855d92"
      },
      "outputs": [
        {
          "output_type": "stream",
          "name": "stdout",
          "text": [
            "Counter({0: 526, 1: 526})\n"
          ]
        }
      ],
      "source": [
        "from imblearn.over_sampling import SMOTE\n",
        "oversample = SMOTE()\n",
        "x, y = oversample.fit_resample(x, y)\n",
        "counter_after = Counter(y)\n",
        "print(counter_after)"
      ]
    },
    {
      "cell_type": "code",
      "execution_count": 33,
      "id": "049b2217",
      "metadata": {
        "colab": {
          "base_uri": "https://localhost:8080/"
        },
        "id": "049b2217",
        "outputId": "018550a1-f152-4a1e-cceb-76f6f76d939f"
      },
      "outputs": [
        {
          "output_type": "stream",
          "name": "stdout",
          "text": [
            "size of X_train: (736, 13)\n",
            "size of X_test: (316, 13)\n",
            "size of y_train: (736,)\n",
            "size of y_test: (316,)\n"
          ]
        }
      ],
      "source": [
        "from sklearn.model_selection import train_test_split\n",
        "x_train, x_test, y_train, y_test = train_test_split(x, y, test_size =0.3, random_state=42)\n",
        "print('size of X_train:', x_train.shape)\n",
        "print('size of X_test:', x_test.shape)\n",
        "print('size of y_train:', y_train.shape)\n",
        "print('size of y_test:', y_test.shape)"
      ]
    },
    {
      "cell_type": "code",
      "execution_count": 34,
      "id": "2cdb67f4",
      "metadata": {
        "id": "2cdb67f4"
      },
      "outputs": [],
      "source": [
        "from tensorflow.keras.layers import Flatten, Dense, Conv1D, MaxPool1D, Dropout\n",
        "import tensorflow as tf"
      ]
    },
    {
      "cell_type": "code",
      "execution_count": 35,
      "id": "bd641281",
      "metadata": {
        "id": "bd641281"
      },
      "outputs": [],
      "source": [
        "x_train = np.array(x_train).reshape(x_train.shape[0],x_train.shape[1],1)\n",
        "x_test = np.array(x_test).reshape(x_test.shape[0],x_test.shape[1],1)"
      ]
    },
    {
      "cell_type": "code",
      "execution_count": 36,
      "id": "1b63ab04",
      "metadata": {
        "colab": {
          "base_uri": "https://localhost:8080/"
        },
        "id": "1b63ab04",
        "outputId": "793949b4-b04a-4bab-b95d-c1802348869e"
      },
      "outputs": [
        {
          "output_type": "stream",
          "name": "stdout",
          "text": [
            "X Train shape:  (736, 13, 1)\n",
            "X Test shape:  (316, 13, 1)\n"
          ]
        }
      ],
      "source": [
        "print(\"X Train shape: \", x_train.shape)\n",
        "print(\"X Test shape: \", x_test.shape)"
      ]
    },
    {
      "cell_type": "code",
      "execution_count": 37,
      "id": "603dc94a",
      "metadata": {
        "id": "603dc94a"
      },
      "outputs": [],
      "source": [
        "cnn_model = tf.keras.models.Sequential()\n",
        "cnn_model.add(Conv1D(filters=32, kernel_size=(3,), padding='same', activation=tf.keras.layers.LeakyReLU(alpha=0.001), input_shape = (x_train.shape[1],1)))\n",
        "cnn_model.add(Conv1D(filters=64, kernel_size=(3,), padding='same', activation=tf.keras.layers.LeakyReLU(alpha=0.001)))\n",
        "cnn_model.add(Conv1D(filters=128, kernel_size=(3,), padding='same', activation=tf.keras.layers.LeakyReLU(alpha=0.001)))\n",
        "cnn_model.add(MaxPool1D(pool_size=(3,), strides=2, padding='same'))\n",
        "cnn_model.add(Dropout(0.5))\n",
        "cnn_model.add(Flatten())\n",
        "cnn_model.add(Dense(units = 256, activation=tf.keras.layers.LeakyReLU(alpha=0.001)))\n",
        "cnn_model.add(Dense(units = 512, activation=tf.keras.layers.LeakyReLU(alpha=0.001)))\n",
        "cnn_model.add(Dense(units = 10, activation='softmax'))\n",
        "cnn_model.compile(optimizer='adam', loss = 'sparse_categorical_crossentropy', metrics=['accuracy'])"
      ]
    },
    {
      "cell_type": "code",
      "execution_count": 38,
      "id": "8bddb343",
      "metadata": {
        "colab": {
          "base_uri": "https://localhost:8080/"
        },
        "id": "8bddb343",
        "outputId": "30385ee5-7237-4ecd-8ede-75a9abff04cf"
      },
      "outputs": [
        {
          "output_type": "stream",
          "name": "stdout",
          "text": [
            "Model: \"sequential\"\n",
            "_________________________________________________________________\n",
            " Layer (type)                Output Shape              Param #   \n",
            "=================================================================\n",
            " conv1d (Conv1D)             (None, 13, 32)            128       \n",
            "                                                                 \n",
            " conv1d_1 (Conv1D)           (None, 13, 64)            6208      \n",
            "                                                                 \n",
            " conv1d_2 (Conv1D)           (None, 13, 128)           24704     \n",
            "                                                                 \n",
            " max_pooling1d (MaxPooling1  (None, 7, 128)            0         \n",
            " D)                                                              \n",
            "                                                                 \n",
            " dropout (Dropout)           (None, 7, 128)            0         \n",
            "                                                                 \n",
            " flatten (Flatten)           (None, 896)               0         \n",
            "                                                                 \n",
            " dense (Dense)               (None, 256)               229632    \n",
            "                                                                 \n",
            " dense_1 (Dense)             (None, 512)               131584    \n",
            "                                                                 \n",
            " dense_2 (Dense)             (None, 10)                5130      \n",
            "                                                                 \n",
            "=================================================================\n",
            "Total params: 397386 (1.52 MB)\n",
            "Trainable params: 397386 (1.52 MB)\n",
            "Non-trainable params: 0 (0.00 Byte)\n",
            "_________________________________________________________________\n"
          ]
        }
      ],
      "source": [
        "cnn_model.summary()"
      ]
    },
    {
      "cell_type": "code",
      "execution_count": 39,
      "id": "a2262bdc",
      "metadata": {
        "colab": {
          "base_uri": "https://localhost:8080/"
        },
        "id": "a2262bdc",
        "outputId": "188a6581-7e37-481f-d388-bad35908e5b1"
      },
      "outputs": [
        {
          "output_type": "stream",
          "name": "stdout",
          "text": [
            "Epoch 1/25\n",
            "74/74 [==============================] - 6s 29ms/step - loss: 1.8664 - accuracy: 0.5285 - val_loss: 0.6405 - val_accuracy: 0.6487\n",
            "Epoch 2/25\n",
            "74/74 [==============================] - 2s 32ms/step - loss: 0.7033 - accuracy: 0.5747 - val_loss: 0.5849 - val_accuracy: 0.6930\n",
            "Epoch 3/25\n",
            "74/74 [==============================] - 2s 22ms/step - loss: 0.7144 - accuracy: 0.5897 - val_loss: 0.6122 - val_accuracy: 0.6741\n",
            "Epoch 4/25\n",
            "74/74 [==============================] - 2s 23ms/step - loss: 0.6793 - accuracy: 0.6196 - val_loss: 0.5721 - val_accuracy: 0.7753\n",
            "Epoch 5/25\n",
            "74/74 [==============================] - 2s 23ms/step - loss: 0.6201 - accuracy: 0.6549 - val_loss: 0.4956 - val_accuracy: 0.7722\n",
            "Epoch 6/25\n",
            "74/74 [==============================] - 1s 15ms/step - loss: 0.5906 - accuracy: 0.6889 - val_loss: 0.5104 - val_accuracy: 0.7595\n",
            "Epoch 7/25\n",
            "74/74 [==============================] - 1s 10ms/step - loss: 0.5280 - accuracy: 0.7486 - val_loss: 0.4369 - val_accuracy: 0.8038\n",
            "Epoch 8/25\n",
            "74/74 [==============================] - 1s 11ms/step - loss: 0.5253 - accuracy: 0.7446 - val_loss: 0.4346 - val_accuracy: 0.7975\n",
            "Epoch 9/25\n",
            "74/74 [==============================] - 1s 11ms/step - loss: 0.4773 - accuracy: 0.7894 - val_loss: 0.4222 - val_accuracy: 0.8038\n",
            "Epoch 10/25\n",
            "74/74 [==============================] - 1s 10ms/step - loss: 0.4489 - accuracy: 0.7840 - val_loss: 0.4163 - val_accuracy: 0.7911\n",
            "Epoch 11/25\n",
            "74/74 [==============================] - 1s 11ms/step - loss: 0.4357 - accuracy: 0.7976 - val_loss: 0.3831 - val_accuracy: 0.8323\n",
            "Epoch 12/25\n",
            "74/74 [==============================] - 1s 12ms/step - loss: 0.4324 - accuracy: 0.8098 - val_loss: 0.4440 - val_accuracy: 0.7690\n",
            "Epoch 13/25\n",
            "74/74 [==============================] - 1s 16ms/step - loss: 0.4307 - accuracy: 0.8043 - val_loss: 0.3488 - val_accuracy: 0.8544\n",
            "Epoch 14/25\n",
            "74/74 [==============================] - 1s 16ms/step - loss: 0.3837 - accuracy: 0.8261 - val_loss: 0.3308 - val_accuracy: 0.8703\n",
            "Epoch 15/25\n",
            "74/74 [==============================] - 1s 11ms/step - loss: 0.4008 - accuracy: 0.8139 - val_loss: 0.3607 - val_accuracy: 0.8354\n",
            "Epoch 16/25\n",
            "74/74 [==============================] - 1s 12ms/step - loss: 0.3785 - accuracy: 0.8220 - val_loss: 0.3332 - val_accuracy: 0.8513\n",
            "Epoch 17/25\n",
            "74/74 [==============================] - 1s 10ms/step - loss: 0.3795 - accuracy: 0.8125 - val_loss: 0.3437 - val_accuracy: 0.8418\n",
            "Epoch 18/25\n",
            "74/74 [==============================] - 1s 11ms/step - loss: 0.3712 - accuracy: 0.8410 - val_loss: 0.3543 - val_accuracy: 0.8386\n",
            "Epoch 19/25\n",
            "74/74 [==============================] - 1s 11ms/step - loss: 0.3604 - accuracy: 0.8451 - val_loss: 0.3873 - val_accuracy: 0.8481\n",
            "Epoch 20/25\n",
            "74/74 [==============================] - 1s 10ms/step - loss: 0.3533 - accuracy: 0.8533 - val_loss: 0.2960 - val_accuracy: 0.8797\n",
            "Epoch 21/25\n",
            "74/74 [==============================] - 1s 11ms/step - loss: 0.3606 - accuracy: 0.8560 - val_loss: 0.3018 - val_accuracy: 0.8576\n",
            "Epoch 22/25\n",
            "74/74 [==============================] - 1s 11ms/step - loss: 0.3346 - accuracy: 0.8614 - val_loss: 0.2976 - val_accuracy: 0.8734\n",
            "Epoch 23/25\n",
            "74/74 [==============================] - 1s 11ms/step - loss: 0.3209 - accuracy: 0.8560 - val_loss: 0.3161 - val_accuracy: 0.9019\n",
            "Epoch 24/25\n",
            "74/74 [==============================] - 1s 12ms/step - loss: 0.3225 - accuracy: 0.8696 - val_loss: 0.3114 - val_accuracy: 0.8734\n",
            "Epoch 25/25\n",
            "74/74 [==============================] - 1s 11ms/step - loss: 0.3315 - accuracy: 0.8560 - val_loss: 0.3064 - val_accuracy: 0.8703\n"
          ]
        }
      ],
      "source": [
        "cnn_model_history = cnn_model.fit(x_train, y_train, epochs=25, batch_size = 10, validation_data = (x_test, y_test))"
      ]
    },
    {
      "cell_type": "code",
      "execution_count": 40,
      "id": "ab4a1610",
      "metadata": {
        "colab": {
          "base_uri": "https://localhost:8080/",
          "height": 489
        },
        "id": "ab4a1610",
        "outputId": "ac645b7a-2db0-41eb-f9c7-a65d59337cbe"
      },
      "outputs": [
        {
          "output_type": "execute_result",
          "data": {
            "text/plain": [
              "Text(0, 0.5, 'Accuracy')"
            ]
          },
          "metadata": {},
          "execution_count": 40
        },
        {
          "output_type": "display_data",
          "data": {
            "text/plain": [
              "<Figure size 640x480 with 1 Axes>"
            ],
            "image/png": "[encoded data removed]"
          },
          "metadata": {}
        }
      ],
      "source": [
        "plt.plot(cnn_model_history.history['accuracy'])\n",
        "plt.plot(cnn_model_history.history['val_accuracy'])\n",
        "plt.legend([\"accuracy\",\"val_accuracy\"])\n",
        "plt.title('Accuracy Vs Val_Accuracy')\n",
        "plt.xlabel('Epoch')\n",
        "plt.ylabel('Accuracy')"
      ]
    },
    {
      "cell_type": "code",
      "execution_count": 41,
      "id": "76e296ea",
      "metadata": {
        "colab": {
          "base_uri": "https://localhost:8080/"
        },
        "id": "76e296ea",
        "outputId": "12a7b552-e593-44c1-8ab5-1d5ca908b4a7"
      },
      "outputs": [
        {
          "output_type": "stream",
          "name": "stdout",
          "text": [
            "0.8695651888847351\n"
          ]
        }
      ],
      "source": [
        "print(max(cnn_model_history.history['accuracy']))"
      ]
    },
    {
      "cell_type": "code",
      "execution_count": 42,
      "id": "P82niG6kKy-z",
      "metadata": {
        "colab": {
          "base_uri": "https://localhost:8080/"
        },
        "id": "P82niG6kKy-z",
        "outputId": "0597a331-5c72-40d5-9c25-b95a20225aaf"
      },
      "outputs": [
        {
          "output_type": "stream",
          "name": "stdout",
          "text": [
            "Precision: 0.8289241622574955\n"
          ]
        }
      ],
      "source": [
        "from sklearn.linear_model import LogisticRegression\n",
        "from sklearn.preprocessing import MinMaxScaler\n",
        "from sklearn.metrics import precision_score\n",
        "\n",
        "# Assuming df contains your dataset with features and target variable\n",
        "# Assuming the last column of df is the target variable\n",
        "\n",
        "# Splitting data into features (xtrain) and target variable (ytrain)\n",
        "xtrain = df.iloc[:, :13]  # Assuming the first 13 columns are features\n",
        "ytrain = df.iloc[:, 13]   # Assuming the last column is the target variable\n",
        "\n",
        "# Normalizing features\n",
        "scaler = MinMaxScaler()\n",
        "xtrain_scaled = scaler.fit_transform(xtrain)\n",
        "\n",
        "# Instantiating the logistic regression model\n",
        "regress = LogisticRegression()\n",
        "\n",
        "# Fitting the model\n",
        "regress.fit(xtrain_scaled, ytrain)\n",
        "\n",
        "# Making predictions\n",
        "ypredicted = regress.predict(xtrain_scaled)\n",
        "\n",
        "# Calculating precision\n",
        "precision = precision_score(ytrain, ypredicted)\n",
        "\n",
        "print(\"Precision:\", precision)"
      ]
    },
    {
      "cell_type": "code",
      "source": [
        "import numpy as np\n",
        "\n",
        "# Sample data (replace with actual patient data)\n",
        "sample_patient_data = np.array([[52, 1, 0, 125, 212, 0, 1, 168, 0, 1, 2, 2, 3],\n",
        "                                [53, 1, 0, 140, 203, 1, 0, 155, 1, 3.1, 0, 0, 3]])\n",
        "\n",
        "# Reshape the sample data to match the input shape expected by the model\n",
        "sample_patient_data = np.expand_dims(sample_patient_data, axis=2)\n",
        "\n",
        "# Assuming 'cnn_model' is the trained CNN model\n",
        "# Predicting whether the patient has heart disease or not\n",
        "predictions = cnn_model.predict(sample_patient_data)\n",
        "\n",
        "# Thresholding predictions (assuming binary classification)\n",
        "binary_predictions = (predictions > 0.5).astype(int)\n",
        "\n",
        "# Displaying the predictions\n",
        "for i, prediction in enumerate(binary_predictions):\n",
        "    print(f\"Patient {i+1} Prediction: {'Heart Disease' if prediction[0] == 1 else 'No Heart Disease'}\")\n"
      ],
      "metadata": {
        "colab": {
          "base_uri": "https://localhost:8080/"
        },
        "id": "Dl6yQISA2GB3",
        "outputId": "cecf5fea-aa44-4e1b-afe0-8b89412cf0c3"
      },
      "id": "Dl6yQISA2GB3",
      "execution_count": 43,
      "outputs": [
        {
          "output_type": "stream",
          "name": "stdout",
          "text": [
            "1/1 [==============================] - 0s 227ms/step\n",
            "Patient 1 Prediction: Heart Disease\n",
            "Patient 2 Prediction: Heart Disease\n"
          ]
        }
      ]
    },
    {
      "cell_type": "code",
      "source": [
        "import numpy as np\n",
        "\n",
        "# Sample data for a patient without heart disease\n",
        "sample_patient_data = np.array([[35, 0, 1, 118, 160, 0, 1, 160, 0, 0.0, 2, 0, 2],\n",
        "                                [45, 1, 2, 130, 170, 0, 1, 150, 0, 0.0, 1, 0, 2]])\n",
        "\n",
        "# Reshape the sample data to match the input shape expected by the model\n",
        "sample_patient_data = np.expand_dims(sample_patient_data, axis=2)\n",
        "\n",
        "# Assuming 'cnn_model' is the trained CNN model\n",
        "# Predicting whether the patient has heart disease or not\n",
        "predictions = cnn_model.predict(sample_patient_data)\n",
        "\n",
        "# Thresholding predictions (assuming binary classification)\n",
        "binary_predictions = (predictions > 0.5).astype(int)\n",
        "\n",
        "# Displaying the predictions\n",
        "for i, prediction in enumerate(binary_predictions):\n",
        "    print(f\"Patient {i+1} Prediction: {'Heart Disease' if prediction[0] == 1 else 'No Heart Disease'}\")\n"
      ],
      "metadata": {
        "colab": {
          "base_uri": "https://localhost:8080/"
        },
        "id": "bdpIXidB2Pye",
        "outputId": "a73d571a-69e5-450a-88bd-30f9db50fae5"
      },
      "id": "bdpIXidB2Pye",
      "execution_count": 44,
      "outputs": [
        {
          "output_type": "stream",
          "name": "stdout",
          "text": [
            "1/1 [==============================] - 0s 52ms/step\n",
            "Patient 1 Prediction: No Heart Disease\n",
            "Patient 2 Prediction: No Heart Disease\n"
          ]
        }
      ]
    }
  ],
  "metadata": {
    "colab": {
      "provenance": []
    },
    "kernelspec": {
      "display_name": "Python 3 (ipykernel)",
      "language": "python",
      "name": "python3"
    },
    "language_info": {
      "codemirror_mode": {
        "name": "ipython",
        "version": 3
      },
      "file_extension": ".py",
      "mimetype": "text/x-python",
      "name": "python",
      "nbconvert_exporter": "python",
      "pygments_lexer": "ipython3",
      "version": "3.9.7"
    }
  },
  "nbformat": 4,
  "nbformat_minor": 5
}
